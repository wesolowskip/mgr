{
 "cells": [
  {
   "cell_type": "code",
   "execution_count": 1,
   "id": "966208da",
   "metadata": {},
   "outputs": [],
   "source": [
    "DATA_DIR = \"benchmark-multi-gpu-nthreads-scratch\""
   ]
  },
  {
   "cell_type": "code",
   "execution_count": 2,
   "id": "7eff419a",
   "metadata": {
    "pycharm": {
     "is_executing": true
    }
   },
   "outputs": [],
   "source": [
    "%matplotlib inline"
   ]
  },
  {
   "cell_type": "code",
   "execution_count": 3,
   "id": "29eb4193",
   "metadata": {
    "pycharm": {
     "is_executing": true
    }
   },
   "outputs": [],
   "source": [
    "XFER_TYPE_MAPPING = {\n",
    "        0: \"Storage->GPU (GDS)\",\n",
    "        1: \"Storage->CPU\",\n",
    "        2: \"Storage->CPU->GPU\",\n",
    "#         3: \"Storage->CPU->GPU_ASYNC\",\n",
    "# #         4: \"Storage->PAGE_CACHE->CPU->GPU\",\n",
    "#         5: \"Storage->GPU_ASYNC\",\n",
    "#         6: \"Storage->GPU_BATCH\" # Experiments failed\n",
    "    }"
   ]
  },
  {
   "cell_type": "code",
   "execution_count": 4,
   "id": "28a85294",
   "metadata": {
    "pycharm": {
     "is_executing": true
    }
   },
   "outputs": [],
   "source": [
    "OPERATION_TYPE_MAPPING = {\n",
    "        0: \"read\",\n",
    "        1: \"write\",\n",
    "        2: \"randread\",\n",
    "        3: \"randwrite\"\n",
    "    }"
   ]
  },
  {
   "cell_type": "code",
   "execution_count": 5,
   "id": "b93b9e0e",
   "metadata": {
    "pycharm": {
     "is_executing": true
    }
   },
   "outputs": [
    {
     "name": "stdout",
     "output_type": "stream",
     "text": [
      "{3, 4, 5, 6}\n"
     ]
    }
   ],
   "source": [
    "xfer_types_to_skip = set(range(7)).difference(XFER_TYPE_MAPPING)\n",
    "print(xfer_types_to_skip)"
   ]
  },
  {
   "cell_type": "code",
   "execution_count": 6,
   "id": "5b2b9c97",
   "metadata": {},
   "outputs": [],
   "source": [
    "threads_to_skip = {2}"
   ]
  },
  {
   "cell_type": "markdown",
   "id": "446e7e02",
   "metadata": {},
   "source": [
    "# Throughput and latency"
   ]
  },
  {
   "cell_type": "code",
   "execution_count": 7,
   "id": "14547248",
   "metadata": {
    "pycharm": {
     "is_executing": true
    }
   },
   "outputs": [],
   "source": [
    "from pathlib import Path\n",
    "import re\n",
    "\n",
    "import matplotlib.pyplot as plt\n",
    "import pandas as pd\n",
    "from pandas.api.types import CategoricalDtype\n",
    "import seaborn as sns"
   ]
  },
  {
   "cell_type": "code",
   "execution_count": 8,
   "id": "4a3e0d02",
   "metadata": {
    "pycharm": {
     "is_executing": true
    }
   },
   "outputs": [],
   "source": [
    "def parse_xfer_type(type_):\n",
    "    return XFER_TYPE_MAPPING[int(type_)]"
   ]
  },
  {
   "cell_type": "code",
   "execution_count": 9,
   "id": "9fa61649",
   "metadata": {
    "pycharm": {
     "is_executing": true
    }
   },
   "outputs": [],
   "source": [
    "def parse_operation_type(type_):\n",
    "    return OPERATION_TYPE_MAPPING[int(type_)]"
   ]
  },
  {
   "cell_type": "code",
   "execution_count": 10,
   "id": "c644284e",
   "metadata": {
    "pycharm": {
     "is_executing": true
    }
   },
   "outputs": [],
   "source": [
    "params_path_pattern = r\"benchmark-(\\d+)-(\\d+)-([^-]+)-(\\d+)-([01])-\" # \"benchmark-$X-${NUM_GPUS}-$RW-$W-${ENABLE_NVLINKS}-${SLURM_JOB_ID}\"\n",
    "results_pattern = r\"Throughput: ([^\\s]+) GiB/sec, Avg_Latency: ([^\\s]+) usecs\"\n",
    "\n",
    "measurements = []\n",
    "\n",
    "pathlist = Path(DATA_DIR).glob('slurm-benchmark-*.out')\n",
    "\n",
    "for path in pathlist:\n",
    "    with open(path, \"r\") as f:\n",
    "        content = f.read()\n",
    "    slurm_job_id = re.search(r\"slurm-benchmark-(\\d+).out\", str(path)).group(1)\n",
    "\n",
    "    results_dir = next(Path(DATA_DIR).glob(f\"benchmark-*-{slurm_job_id}\"))\n",
    "\n",
    "    params_match = re.search(params_path_pattern, str(results_dir))\n",
    "    results_match = re.search(results_pattern, content)\n",
    "    if int(params_match.group(1)) in xfer_types_to_skip:\n",
    "        continue\n",
    "    if (threads := int(params_match.group(4))) in threads_to_skip:\n",
    "        continue\n",
    "    \n",
    "    measurements.append({\n",
    "        \"xfer_type\": parse_xfer_type(params_match.group(1)),\n",
    "        \"num_gpus\": int(params_match.group(2)),\n",
    "        \"op_type\": params_match.group(3),\n",
    "        \"threads\": threads,\n",
    "        \"nvlink\": params_match.group(5) == \"1\",\n",
    "        \"throughput (GiB/sec)\": float(results_match.group(1)),\n",
    "        \"latency (usecs)\": float(results_match.group(2))\n",
    "    })\n",
    "\n",
    "measurements_df = pd.DataFrame(measurements)"
   ]
  },
  {
   "cell_type": "code",
   "execution_count": 11,
   "id": "83515827",
   "metadata": {
    "pycharm": {
     "is_executing": true
    }
   },
   "outputs": [],
   "source": [
    "measurements_df[\"xfer_type\"] = measurements_df[\"xfer_type\"].astype(\n",
    "    CategoricalDtype(categories=XFER_TYPE_MAPPING.values(), ordered=True)\n",
    ")\n",
    "measurements_df[\"op_type\"] = measurements_df[\"op_type\"].astype(\n",
    "    CategoricalDtype(categories=OPERATION_TYPE_MAPPING.values(), ordered=True)\n",
    ")\n",
    "\n",
    "from itertools import product\n",
    "\n",
    "measurements_df[\"grp\"] = (measurements_df.xfer_type.astype('str') + ', nvlink=' + measurements_df.nvlink.astype('str')).astype(\n",
    "    CategoricalDtype(categories=list(x + ', nvlink=' + y for x, y in product(measurements_df.xfer_type.cat.categories, [\"False\", \"True\"])), ordered=True)\n",
    ")"
   ]
  },
  {
   "cell_type": "code",
   "execution_count": 12,
   "id": "f1cd4249",
   "metadata": {},
   "outputs": [
    {
     "data": {
      "text/html": [
       "<div>\n",
       "<style scoped>\n",
       "    .dataframe tbody tr th:only-of-type {\n",
       "        vertical-align: middle;\n",
       "    }\n",
       "\n",
       "    .dataframe tbody tr th {\n",
       "        vertical-align: top;\n",
       "    }\n",
       "\n",
       "    .dataframe thead th {\n",
       "        text-align: right;\n",
       "    }\n",
       "</style>\n",
       "<table border=\"1\" class=\"dataframe\">\n",
       "  <thead>\n",
       "    <tr style=\"text-align: right;\">\n",
       "      <th></th>\n",
       "      <th>xfer_type</th>\n",
       "      <th>num_gpus</th>\n",
       "      <th>op_type</th>\n",
       "      <th>threads</th>\n",
       "      <th>nvlink</th>\n",
       "      <th>throughput (GiB/sec)</th>\n",
       "      <th>latency (usecs)</th>\n",
       "      <th>grp</th>\n",
       "    </tr>\n",
       "  </thead>\n",
       "  <tbody>\n",
       "    <tr>\n",
       "      <th>0</th>\n",
       "      <td>Storage-&gt;GPU (GDS)</td>\n",
       "      <td>8</td>\n",
       "      <td>write</td>\n",
       "      <td>8</td>\n",
       "      <td>True</td>\n",
       "      <td>8.459751</td>\n",
       "      <td>7386.973306</td>\n",
       "      <td>Storage-&gt;GPU (GDS), nvlink=True</td>\n",
       "    </tr>\n",
       "    <tr>\n",
       "      <th>1</th>\n",
       "      <td>Storage-&gt;CPU-&gt;GPU</td>\n",
       "      <td>2</td>\n",
       "      <td>read</td>\n",
       "      <td>16</td>\n",
       "      <td>False</td>\n",
       "      <td>15.044443</td>\n",
       "      <td>2077.153122</td>\n",
       "      <td>Storage-&gt;CPU-&gt;GPU, nvlink=False</td>\n",
       "    </tr>\n",
       "    <tr>\n",
       "      <th>2</th>\n",
       "      <td>Storage-&gt;CPU</td>\n",
       "      <td>1</td>\n",
       "      <td>read</td>\n",
       "      <td>8</td>\n",
       "      <td>False</td>\n",
       "      <td>5.629459</td>\n",
       "      <td>1387.809080</td>\n",
       "      <td>Storage-&gt;CPU, nvlink=False</td>\n",
       "    </tr>\n",
       "    <tr>\n",
       "      <th>3</th>\n",
       "      <td>Storage-&gt;GPU (GDS)</td>\n",
       "      <td>2</td>\n",
       "      <td>write</td>\n",
       "      <td>4</td>\n",
       "      <td>False</td>\n",
       "      <td>4.303721</td>\n",
       "      <td>1815.776741</td>\n",
       "      <td>Storage-&gt;GPU (GDS), nvlink=False</td>\n",
       "    </tr>\n",
       "    <tr>\n",
       "      <th>4</th>\n",
       "      <td>Storage-&gt;GPU (GDS)</td>\n",
       "      <td>8</td>\n",
       "      <td>randread</td>\n",
       "      <td>4</td>\n",
       "      <td>True</td>\n",
       "      <td>14.160072</td>\n",
       "      <td>2207.237487</td>\n",
       "      <td>Storage-&gt;GPU (GDS), nvlink=True</td>\n",
       "    </tr>\n",
       "    <tr>\n",
       "      <th>...</th>\n",
       "      <td>...</td>\n",
       "      <td>...</td>\n",
       "      <td>...</td>\n",
       "      <td>...</td>\n",
       "      <td>...</td>\n",
       "      <td>...</td>\n",
       "      <td>...</td>\n",
       "      <td>...</td>\n",
       "    </tr>\n",
       "    <tr>\n",
       "      <th>331</th>\n",
       "      <td>Storage-&gt;CPU-&gt;GPU</td>\n",
       "      <td>2</td>\n",
       "      <td>write</td>\n",
       "      <td>32</td>\n",
       "      <td>True</td>\n",
       "      <td>8.934308</td>\n",
       "      <td>7022.366235</td>\n",
       "      <td>Storage-&gt;CPU-&gt;GPU, nvlink=True</td>\n",
       "    </tr>\n",
       "    <tr>\n",
       "      <th>332</th>\n",
       "      <td>Storage-&gt;CPU</td>\n",
       "      <td>1</td>\n",
       "      <td>read</td>\n",
       "      <td>4</td>\n",
       "      <td>True</td>\n",
       "      <td>2.958477</td>\n",
       "      <td>1320.416844</td>\n",
       "      <td>Storage-&gt;CPU, nvlink=True</td>\n",
       "    </tr>\n",
       "    <tr>\n",
       "      <th>333</th>\n",
       "      <td>Storage-&gt;GPU (GDS)</td>\n",
       "      <td>1</td>\n",
       "      <td>write</td>\n",
       "      <td>32</td>\n",
       "      <td>True</td>\n",
       "      <td>4.600403</td>\n",
       "      <td>6845.044507</td>\n",
       "      <td>Storage-&gt;GPU (GDS), nvlink=True</td>\n",
       "    </tr>\n",
       "    <tr>\n",
       "      <th>334</th>\n",
       "      <td>Storage-&gt;CPU</td>\n",
       "      <td>1</td>\n",
       "      <td>write</td>\n",
       "      <td>8</td>\n",
       "      <td>False</td>\n",
       "      <td>5.382358</td>\n",
       "      <td>1451.562379</td>\n",
       "      <td>Storage-&gt;CPU, nvlink=False</td>\n",
       "    </tr>\n",
       "    <tr>\n",
       "      <th>335</th>\n",
       "      <td>Storage-&gt;CPU</td>\n",
       "      <td>4</td>\n",
       "      <td>randwrite</td>\n",
       "      <td>8</td>\n",
       "      <td>True</td>\n",
       "      <td>5.269411</td>\n",
       "      <td>5929.595380</td>\n",
       "      <td>Storage-&gt;CPU, nvlink=True</td>\n",
       "    </tr>\n",
       "  </tbody>\n",
       "</table>\n",
       "<p>336 rows × 8 columns</p>\n",
       "</div>"
      ],
      "text/plain": [
       "              xfer_type  num_gpus    op_type  threads  nvlink  \\\n",
       "0    Storage->GPU (GDS)         8      write        8    True   \n",
       "1     Storage->CPU->GPU         2       read       16   False   \n",
       "2          Storage->CPU         1       read        8   False   \n",
       "3    Storage->GPU (GDS)         2      write        4   False   \n",
       "4    Storage->GPU (GDS)         8   randread        4    True   \n",
       "..                  ...       ...        ...      ...     ...   \n",
       "331   Storage->CPU->GPU         2      write       32    True   \n",
       "332        Storage->CPU         1       read        4    True   \n",
       "333  Storage->GPU (GDS)         1      write       32    True   \n",
       "334        Storage->CPU         1      write        8   False   \n",
       "335        Storage->CPU         4  randwrite        8    True   \n",
       "\n",
       "     throughput (GiB/sec)  latency (usecs)                               grp  \n",
       "0                8.459751      7386.973306   Storage->GPU (GDS), nvlink=True  \n",
       "1               15.044443      2077.153122   Storage->CPU->GPU, nvlink=False  \n",
       "2                5.629459      1387.809080        Storage->CPU, nvlink=False  \n",
       "3                4.303721      1815.776741  Storage->GPU (GDS), nvlink=False  \n",
       "4               14.160072      2207.237487   Storage->GPU (GDS), nvlink=True  \n",
       "..                    ...              ...                               ...  \n",
       "331              8.934308      7022.366235    Storage->CPU->GPU, nvlink=True  \n",
       "332              2.958477      1320.416844         Storage->CPU, nvlink=True  \n",
       "333              4.600403      6845.044507   Storage->GPU (GDS), nvlink=True  \n",
       "334              5.382358      1451.562379        Storage->CPU, nvlink=False  \n",
       "335              5.269411      5929.595380         Storage->CPU, nvlink=True  \n",
       "\n",
       "[336 rows x 8 columns]"
      ]
     },
     "execution_count": 12,
     "metadata": {},
     "output_type": "execute_result"
    }
   ],
   "source": [
    "measurements_df"
   ]
  },
  {
   "cell_type": "markdown",
   "id": "65568e4e",
   "metadata": {},
   "source": [
    "# W tym przypadku nie ma dużych różnic między NVLink=False i True, są niewielkie i mogły wynikać z błędu pomiaru po prostu"
   ]
  },
  {
   "cell_type": "code",
   "execution_count": 13,
   "id": "599c41ef",
   "metadata": {},
   "outputs": [
    {
     "data": {
      "image/png": "[encoded data removed]",
      "text/plain": [
       "<Figure size 967.75x1200 with 12 Axes>"
      ]
     },
     "metadata": {},
     "output_type": "display_data"
    }
   ],
   "source": [
    "g = sns.FacetGrid(measurements_df[measurements_df.nvlink], col=\"xfer_type\", row=\"op_type\")\n",
    "g.set_titles(\"{row_name}\\n{col_name}\")\n",
    "g.map_dataframe(\n",
    "    sns.barplot, x=\"num_gpus\", y=\"throughput (GiB/sec)\", hue=\"threads\",\n",
    "    palette=sns.color_palette(n_colors=measurements_df.threads.nunique())\n",
    ")\n",
    "g.add_legend(title=\"threads\")\n",
    "# for ax in g.axes_dict.values():\n",
    "#     for cnt in ax.containers:\n",
    "#         for bar in cnt:\n",
    "#             bar.set_alpha(0.2)\n",
    "\n",
    "plt.tight_layout()\n",
    "plt.savefig(f\"img/{DATA_DIR}/throughput-dgx-4-scratch.jpg\", dpi='figure')\n",
    "plt.show()"
   ]
  },
  {
   "cell_type": "code",
   "execution_count": null,
   "id": "3bcdfcb8",
   "metadata": {},
   "outputs": [],
   "source": []
  }
 ],
 "metadata": {
  "kernelspec": {
   "display_name": "Python 3 (ipykernel)",
   "language": "python",
   "name": "python3"
  },
  "language_info": {
   "codemirror_mode": {
    "name": "ipython",
    "version": 3
   },
   "file_extension": ".py",
   "mimetype": "text/x-python",
   "name": "python",
   "nbconvert_exporter": "python",
   "pygments_lexer": "ipython3",
   "version": "3.10.10"
  }
 },
 "nbformat": 4,
 "nbformat_minor": 5
}
