{
 "cells": [
  {
   "cell_type": "code",
   "execution_count": 1,
   "id": "e879f34c",
   "metadata": {},
   "outputs": [],
   "source": [
    "from pathlib import Path\n",
    "import re\n",
    "\n",
    "import matplotlib.pyplot as plt\n",
    "import pandas as pd\n",
    "from pandas.api.types import CategoricalDtype\n",
    "import seaborn as sns\n",
    "from matplotlib.ticker import MaxNLocator"
   ]
  },
  {
   "cell_type": "code",
   "execution_count": 2,
   "id": "91b179ec",
   "metadata": {},
   "outputs": [],
   "source": [
    "pattern = r\"Code block 'i=(\\d+), force_host_read=([^,]+), blocksize='([^']+)', cufile_params=(None|'cufile_thread_count=(\\d+), cufile_slice_size_mb=(\\d+)')' took: ([^\\s]+) ms\""
   ]
  },
  {
   "cell_type": "code",
   "execution_count": 3,
   "id": "73e5b6e7",
   "metadata": {},
   "outputs": [],
   "source": [
    "with open(\"slurm-693520.out\") as f:\n",
    "    logs = f.read()"
   ]
  },
  {
   "cell_type": "code",
   "execution_count": 4,
   "id": "de17caef",
   "metadata": {},
   "outputs": [],
   "source": [
    "def parse_blocksize(text):\n",
    "    return {\n",
    "        \"512MiB\": 0.5,\n",
    "        \"1GiB\": 1,\n",
    "        \"2GiB\": 2,\n",
    "        \"4GiB\": 4\n",
    "    }[text]\n",
    "\n",
    "measurements = []\n",
    "\n",
    "for match in re.findall(pattern, logs):\n",
    "    # We remove first \"warmup\" observation\n",
    "    if (rep := int(match[0])) > 0:\n",
    "        measurements.append({\n",
    "            \"rep\": rep,\n",
    "            \"GDS\": bool(match[4]),\n",
    "            \"data transfer path\": \"Storage-GPU (GDS)\" if match[4] else \"Storage-CPU-GPU\",\n",
    "            \"blocksize (GiB)\": parse_blocksize(match[2]),\n",
    "            \"number of\\nIO threads\": int(match[4]) if match[4] else 0,\n",
    "            \"time (msecs)\": float(match[6]),\n",
    "            \"lib\": \"metajsonparser\"\n",
    "        })\n",
    "measurements_df = pd.DataFrame(measurements)"
   ]
  },
  {
   "cell_type": "code",
   "execution_count": 5,
   "id": "3c2ca739",
   "metadata": {},
   "outputs": [],
   "source": [
    "cudf_pattern = r\"\"\"Code block 'blocksize='([^']+)', os\\.environ\\['LIBCUDF_CUFILE_POLICY'\\]='([^']+)', os\\.environ\\.get\\('LIBCUDF_CUFILE_THREAD_COUNT'\\)=([^,]+), os\\.environ\\.get\\('LIBCUDF_CUFILE_SLICE_SIZE'\\)=(.+)' took: ([^\\s]+) ms\n",
    "rows=\"\"\"\n",
    "\n",
    "measurements_cudf = []\n",
    "\n",
    "with open(\"cudf-parser/slurm-707604.out\") as f:\n",
    "    logs = f.read()\n",
    "    \n",
    "    for match in re.findall(cudf_pattern, logs, re.M):\n",
    "    # We remove first \"warmup\" observation\n",
    "        measurements_cudf.append({\n",
    "            \"blocksize (GiB)\": parse_blocksize(match[0]),\n",
    "            \"GDS\": False,\n",
    "            \"data transfer path\": \"Storage-CPU-GPU\",\n",
    "            \"number of\\nIO threads\": None,\n",
    "            \"time (msecs)\": float(match[-1]),\n",
    "            \"lib\": \"cudf\"\n",
    "        })\n",
    "measurements_cudf_df = pd.DataFrame(measurements_cudf)"
   ]
  },
  {
   "cell_type": "code",
   "execution_count": 6,
   "id": "b4949041",
   "metadata": {},
   "outputs": [],
   "source": [
    "comparison_df = measurements_df[measurements_df[\"number of\\nIO threads\"].isin([0, 64])]"
   ]
  },
  {
   "cell_type": "code",
   "execution_count": 7,
   "id": "25b1a7b9",
   "metadata": {},
   "outputs": [
    {
     "name": "stderr",
     "output_type": "stream",
     "text": [
      "/tmp/ipykernel_9600/2263933760.py:1: FutureWarning: The default value of numeric_only in DataFrameGroupBy.mean is deprecated. In a future version, numeric_only will default to False. Either specify numeric_only or select only columns which should be valid for the function.\n",
      "  comparison_df.groupby(\"GDS\").mean()\n"
     ]
    },
    {
     "data": {
      "text/html": [
       "<div>\n",
       "<style scoped>\n",
       "    .dataframe tbody tr th:only-of-type {\n",
       "        vertical-align: middle;\n",
       "    }\n",
       "\n",
       "    .dataframe tbody tr th {\n",
       "        vertical-align: top;\n",
       "    }\n",
       "\n",
       "    .dataframe thead th {\n",
       "        text-align: right;\n",
       "    }\n",
       "</style>\n",
       "<table border=\"1\" class=\"dataframe\">\n",
       "  <thead>\n",
       "    <tr style=\"text-align: right;\">\n",
       "      <th></th>\n",
       "      <th>rep</th>\n",
       "      <th>blocksize (GiB)</th>\n",
       "      <th>number of\\nIO threads</th>\n",
       "      <th>time (msecs)</th>\n",
       "    </tr>\n",
       "    <tr>\n",
       "      <th>GDS</th>\n",
       "      <th></th>\n",
       "      <th></th>\n",
       "      <th></th>\n",
       "      <th></th>\n",
       "    </tr>\n",
       "  </thead>\n",
       "  <tbody>\n",
       "    <tr>\n",
       "      <th>False</th>\n",
       "      <td>3.0</td>\n",
       "      <td>1.875</td>\n",
       "      <td>0.0</td>\n",
       "      <td>154305.400209</td>\n",
       "    </tr>\n",
       "    <tr>\n",
       "      <th>True</th>\n",
       "      <td>3.0</td>\n",
       "      <td>1.875</td>\n",
       "      <td>64.0</td>\n",
       "      <td>36897.491259</td>\n",
       "    </tr>\n",
       "  </tbody>\n",
       "</table>\n",
       "</div>"
      ],
      "text/plain": [
       "       rep  blocksize (GiB)  number of\\nIO threads   time (msecs)\n",
       "GDS                                                              \n",
       "False  3.0            1.875                    0.0  154305.400209\n",
       "True   3.0            1.875                   64.0   36897.491259"
      ]
     },
     "execution_count": 7,
     "metadata": {},
     "output_type": "execute_result"
    }
   ],
   "source": [
    "comparison_df.groupby(\"GDS\").mean()"
   ]
  },
  {
   "cell_type": "code",
   "execution_count": 8,
   "id": "a687d833",
   "metadata": {},
   "outputs": [
    {
     "data": {
      "text/plain": [
       "4.182002486994613"
      ]
     },
     "execution_count": 8,
     "metadata": {},
     "output_type": "execute_result"
    }
   ],
   "source": [
    "154305.400209 / 36897.491259"
   ]
  },
  {
   "cell_type": "code",
   "execution_count": 9,
   "id": "a447b170",
   "metadata": {},
   "outputs": [
    {
     "data": {
      "image/png": "[encoded data removed]",
      "text/plain": [
       "<Figure size 640x480 with 1 Axes>"
      ]
     },
     "metadata": {},
     "output_type": "display_data"
    }
   ],
   "source": [
    "gds_df = measurements_df[\n",
    "    measurements_df[\"GDS\"]\n",
    "]\n",
    "g = sns.pointplot(\n",
    "    data=gds_df,\n",
    "    x=\"blocksize (GiB)\",\n",
    "    y=\"time (msecs)\",\n",
    "    hue=gds_df[\"number of\\nIO threads\"].astype(int),\n",
    "    palette=sns.color_palette(n_colors=gds_df[\"number of\\nIO threads\"].nunique()),\n",
    "    errorbar=\"se\"\n",
    ")\n",
    "sns.move_legend(g, 'upper left', bbox_to_anchor=(0, 0.92))\n",
    "g.set_xticks(g.get_xticks(), labels=['{:.2f}'.format(float(t.get_text())) for t in g.get_xticklabels()])\n",
    "plt.savefig(f\"img/dask-gds-time.pdf\", format=\"pdf\")\n",
    "plt.show()"
   ]
  },
  {
   "cell_type": "markdown",
   "id": "b4a86119",
   "metadata": {},
   "source": [
    "## Comparison between GDS and non-GDS:"
   ]
  },
  {
   "cell_type": "code",
   "execution_count": 10,
   "id": "0b33748c",
   "metadata": {},
   "outputs": [
    {
     "data": {
      "text/html": [
       "<div>\n",
       "<style scoped>\n",
       "    .dataframe tbody tr th:only-of-type {\n",
       "        vertical-align: middle;\n",
       "    }\n",
       "\n",
       "    .dataframe tbody tr th {\n",
       "        vertical-align: top;\n",
       "    }\n",
       "\n",
       "    .dataframe thead th {\n",
       "        text-align: right;\n",
       "    }\n",
       "</style>\n",
       "<table border=\"1\" class=\"dataframe\">\n",
       "  <thead>\n",
       "    <tr style=\"text-align: right;\">\n",
       "      <th></th>\n",
       "      <th>blocksize (GiB)</th>\n",
       "      <th>GDS</th>\n",
       "      <th>data transfer path</th>\n",
       "      <th>number of\\nIO threads</th>\n",
       "      <th>time (msecs)</th>\n",
       "      <th>lib</th>\n",
       "    </tr>\n",
       "  </thead>\n",
       "  <tbody>\n",
       "    <tr>\n",
       "      <th>0</th>\n",
       "      <td>0.5</td>\n",
       "      <td>False</td>\n",
       "      <td>Storage-CPU-GPU</td>\n",
       "      <td>None</td>\n",
       "      <td>470275.42773</td>\n",
       "      <td>cudf</td>\n",
       "    </tr>\n",
       "    <tr>\n",
       "      <th>1</th>\n",
       "      <td>1.0</td>\n",
       "      <td>False</td>\n",
       "      <td>Storage-CPU-GPU</td>\n",
       "      <td>None</td>\n",
       "      <td>474434.98116</td>\n",
       "      <td>cudf</td>\n",
       "    </tr>\n",
       "    <tr>\n",
       "      <th>2</th>\n",
       "      <td>0.5</td>\n",
       "      <td>False</td>\n",
       "      <td>Storage-CPU-GPU</td>\n",
       "      <td>None</td>\n",
       "      <td>484062.96604</td>\n",
       "      <td>cudf</td>\n",
       "    </tr>\n",
       "    <tr>\n",
       "      <th>3</th>\n",
       "      <td>1.0</td>\n",
       "      <td>False</td>\n",
       "      <td>Storage-CPU-GPU</td>\n",
       "      <td>None</td>\n",
       "      <td>482196.06402</td>\n",
       "      <td>cudf</td>\n",
       "    </tr>\n",
       "    <tr>\n",
       "      <th>4</th>\n",
       "      <td>0.5</td>\n",
       "      <td>False</td>\n",
       "      <td>Storage-CPU-GPU</td>\n",
       "      <td>None</td>\n",
       "      <td>482070.97905</td>\n",
       "      <td>cudf</td>\n",
       "    </tr>\n",
       "    <tr>\n",
       "      <th>5</th>\n",
       "      <td>1.0</td>\n",
       "      <td>False</td>\n",
       "      <td>Storage-CPU-GPU</td>\n",
       "      <td>None</td>\n",
       "      <td>478122.26544</td>\n",
       "      <td>cudf</td>\n",
       "    </tr>\n",
       "    <tr>\n",
       "      <th>6</th>\n",
       "      <td>0.5</td>\n",
       "      <td>False</td>\n",
       "      <td>Storage-CPU-GPU</td>\n",
       "      <td>None</td>\n",
       "      <td>485711.55090</td>\n",
       "      <td>cudf</td>\n",
       "    </tr>\n",
       "    <tr>\n",
       "      <th>7</th>\n",
       "      <td>1.0</td>\n",
       "      <td>False</td>\n",
       "      <td>Storage-CPU-GPU</td>\n",
       "      <td>None</td>\n",
       "      <td>480296.06149</td>\n",
       "      <td>cudf</td>\n",
       "    </tr>\n",
       "    <tr>\n",
       "      <th>8</th>\n",
       "      <td>0.5</td>\n",
       "      <td>False</td>\n",
       "      <td>Storage-CPU-GPU</td>\n",
       "      <td>None</td>\n",
       "      <td>485147.77421</td>\n",
       "      <td>cudf</td>\n",
       "    </tr>\n",
       "    <tr>\n",
       "      <th>9</th>\n",
       "      <td>1.0</td>\n",
       "      <td>False</td>\n",
       "      <td>Storage-CPU-GPU</td>\n",
       "      <td>None</td>\n",
       "      <td>478135.98068</td>\n",
       "      <td>cudf</td>\n",
       "    </tr>\n",
       "    <tr>\n",
       "      <th>10</th>\n",
       "      <td>0.5</td>\n",
       "      <td>False</td>\n",
       "      <td>Storage-CPU-GPU</td>\n",
       "      <td>None</td>\n",
       "      <td>482955.30935</td>\n",
       "      <td>cudf</td>\n",
       "    </tr>\n",
       "    <tr>\n",
       "      <th>11</th>\n",
       "      <td>1.0</td>\n",
       "      <td>False</td>\n",
       "      <td>Storage-CPU-GPU</td>\n",
       "      <td>None</td>\n",
       "      <td>477467.20735</td>\n",
       "      <td>cudf</td>\n",
       "    </tr>\n",
       "  </tbody>\n",
       "</table>\n",
       "</div>"
      ],
      "text/plain": [
       "    blocksize (GiB)    GDS data transfer path number of\\nIO threads  \\\n",
       "0               0.5  False    Storage-CPU-GPU                  None   \n",
       "1               1.0  False    Storage-CPU-GPU                  None   \n",
       "2               0.5  False    Storage-CPU-GPU                  None   \n",
       "3               1.0  False    Storage-CPU-GPU                  None   \n",
       "4               0.5  False    Storage-CPU-GPU                  None   \n",
       "5               1.0  False    Storage-CPU-GPU                  None   \n",
       "6               0.5  False    Storage-CPU-GPU                  None   \n",
       "7               1.0  False    Storage-CPU-GPU                  None   \n",
       "8               0.5  False    Storage-CPU-GPU                  None   \n",
       "9               1.0  False    Storage-CPU-GPU                  None   \n",
       "10              0.5  False    Storage-CPU-GPU                  None   \n",
       "11              1.0  False    Storage-CPU-GPU                  None   \n",
       "\n",
       "    time (msecs)   lib  \n",
       "0   470275.42773  cudf  \n",
       "1   474434.98116  cudf  \n",
       "2   484062.96604  cudf  \n",
       "3   482196.06402  cudf  \n",
       "4   482070.97905  cudf  \n",
       "5   478122.26544  cudf  \n",
       "6   485711.55090  cudf  \n",
       "7   480296.06149  cudf  \n",
       "8   485147.77421  cudf  \n",
       "9   478135.98068  cudf  \n",
       "10  482955.30935  cudf  \n",
       "11  477467.20735  cudf  "
      ]
     },
     "execution_count": 10,
     "metadata": {},
     "output_type": "execute_result"
    }
   ],
   "source": [
    "measurements_cudf_df"
   ]
  },
  {
   "cell_type": "code",
   "execution_count": 13,
   "id": "7a967400",
   "metadata": {},
   "outputs": [
    {
     "data": {
      "image/png": "[encoded data removed]",
      "text/plain": [
       "<Figure size 640x480 with 1 Axes>"
      ]
     },
     "metadata": {},
     "output_type": "display_data"
    }
   ],
   "source": [
    "comparison_df = measurements_df[measurements_df[\"number of\\nIO threads\"].isin([0, 64])]\n",
    "# fig, ax = plt.subplots()\n",
    "# sns.pointplot(\n",
    "#     data=measurements_cudf_df,\n",
    "#     x=\"blocksize (GiB)\",\n",
    "#     y=\"time (msecs)\",\n",
    "#     hue=\"data transfer path\",\n",
    "#     palette=sns.color_palette(n_colors=2),\n",
    "#     errorbar=\"se\",\n",
    "#     linestyles=\"dotted\",\n",
    "#     markers=\".\"\n",
    "# )\n",
    "g = sns.pointplot(\n",
    "    data=comparison_df,\n",
    "    x=\"blocksize (GiB)\",\n",
    "    y=\"time (msecs)\",\n",
    "    hue=\"data transfer path\",\n",
    "    palette=sns.color_palette(n_colors=2),\n",
    "    errorbar=\"se\",\n",
    ")\n",
    "g.set_xticks(g.get_xticks(), labels=['{:.2f}'.format(float(t.get_text())) for t in g.get_xticklabels()])\n",
    "plt.savefig(f\"img/dask-comparison-time.pdf\", format=\"pdf\", bbox_inches='tight')\n",
    "plt.show()"
   ]
  },
  {
   "cell_type": "code",
   "execution_count": null,
   "id": "f9d45312",
   "metadata": {},
   "outputs": [],
   "source": []
  }
 ],
 "metadata": {
  "kernelspec": {
   "display_name": "Python 3 (ipykernel)",
   "language": "python",
   "name": "python3"
  },
  "language_info": {
   "codemirror_mode": {
    "name": "ipython",
    "version": 3
   },
   "file_extension": ".py",
   "mimetype": "text/x-python",
   "name": "python",
   "nbconvert_exporter": "python",
   "pygments_lexer": "ipython3",
   "version": "3.10.10"
  }
 },
 "nbformat": 4,
 "nbformat_minor": 5
}
