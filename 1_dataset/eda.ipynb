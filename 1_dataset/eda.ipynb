{
 "cells": [
  {
   "cell_type": "markdown",
   "id": "d2ea5e45-aa3f-4826-8dba-38ab2821a6a3",
   "metadata": {},
   "source": [
    "# EDA"
   ]
  },
  {
   "cell_type": "code",
   "execution_count": 1,
   "id": "36d79968-61d4-4800-adb4-b9039d63f1b1",
   "metadata": {
    "tags": []
   },
   "outputs": [],
   "source": [
    "import re\n",
    "import matplotlib.pyplot as plt\n",
    "import seaborn as sns\n",
    "import pandas as pd\n",
    "from tqdm import tqdm\n",
    "%matplotlib inline"
   ]
  },
  {
   "cell_type": "code",
   "execution_count": 55,
   "id": "106fb575-e211-4d60-9220-6b3c24abb72b",
   "metadata": {},
   "outputs": [],
   "source": [
    "plt.rcParams.update({'font.size': 16})"
   ]
  },
  {
   "cell_type": "code",
   "execution_count": 3,
   "id": "8ae8410d-5cd4-4f96-b572-4d6eca040307",
   "metadata": {
    "tags": []
   },
   "outputs": [],
   "source": [
    "from pathlib import Path\n",
    "DATA_DIR = Path(\"/media/pawel/KIOXIA/google\")"
   ]
  },
  {
   "cell_type": "code",
   "execution_count": 4,
   "id": "aef43609-9910-4f46-a342-58a11d4881bf",
   "metadata": {},
   "outputs": [],
   "source": [
    "review_files = list(DATA_DIR.glob(\"review-*.json\"))"
   ]
  },
  {
   "cell_type": "code",
   "execution_count": 5,
   "id": "d183dc38-2699-4bc3-be32-aab2d56f931d",
   "metadata": {},
   "outputs": [],
   "source": [
    "states = [re.findall(r\"review-(.*?).json\", str(x))[0] for x in review_files]"
   ]
  },
  {
   "cell_type": "code",
   "execution_count": 6,
   "id": "cfa4faf8-cf5d-4a2f-bb18-d8d62395bd89",
   "metadata": {},
   "outputs": [
    {
     "data": {
      "text/plain": [
       "52"
      ]
     },
     "execution_count": 6,
     "metadata": {},
     "output_type": "execute_result"
    }
   ],
   "source": [
    "len(states)"
   ]
  },
  {
   "cell_type": "code",
   "execution_count": 7,
   "id": "da9be554-eb32-43e9-a6fc-a97b6d764c9d",
   "metadata": {},
   "outputs": [],
   "source": [
    "def count_lines(fname):\n",
    "    with open(fname) as f:\n",
    "        return sum(1 for _ in f)"
   ]
  },
  {
   "cell_type": "code",
   "execution_count": 8,
   "id": "502b2806-f4c7-4aea-9dd6-92d77c40a29c",
   "metadata": {},
   "outputs": [
    {
     "name": "stderr",
     "output_type": "stream",
     "text": [
      "100%|███████████████████████████████████████████| 52/52 [03:09<00:00,  3.64s/it]\n"
     ]
    }
   ],
   "source": [
    "entry_counts = pd.DataFrame([{\n",
    "    \"state\": state,\n",
    "    \"reviews\": count_lines(DATA_DIR / f\"review-{state}.json\"),\n",
    "    \"meta\": count_lines(DATA_DIR / f\"meta-{state}.json\")\n",
    "    } for state in tqdm(states)]\n",
    ")"
   ]
  },
  {
   "cell_type": "markdown",
   "id": "7e68a15e-5f51-46d0-9695-c27c51668f62",
   "metadata": {},
   "source": [
    "## Count of reviews and meta per state"
   ]
  },
  {
   "cell_type": "code",
   "execution_count": 9,
   "id": "81e34fcb-f1ea-46fd-b24a-d3f31ca90d3a",
   "metadata": {},
   "outputs": [
    {
     "data": {
      "text/html": [
       "<div>\n",
       "<style scoped>\n",
       "    .dataframe tbody tr th:only-of-type {\n",
       "        vertical-align: middle;\n",
       "    }\n",
       "\n",
       "    .dataframe tbody tr th {\n",
       "        vertical-align: top;\n",
       "    }\n",
       "\n",
       "    .dataframe thead th {\n",
       "        text-align: right;\n",
       "    }\n",
       "</style>\n",
       "<table border=\"1\" class=\"dataframe\">\n",
       "  <thead>\n",
       "    <tr style=\"text-align: right;\">\n",
       "      <th></th>\n",
       "      <th>state</th>\n",
       "      <th>reviews</th>\n",
       "      <th>meta</th>\n",
       "    </tr>\n",
       "  </thead>\n",
       "  <tbody>\n",
       "    <tr>\n",
       "      <th>0</th>\n",
       "      <td>North Dakota</td>\n",
       "      <td>1109558</td>\n",
       "      <td>11987</td>\n",
       "    </tr>\n",
       "    <tr>\n",
       "      <th>1</th>\n",
       "      <td>Georgia</td>\n",
       "      <td>24060125</td>\n",
       "      <td>166381</td>\n",
       "    </tr>\n",
       "    <tr>\n",
       "      <th>2</th>\n",
       "      <td>Arizona</td>\n",
       "      <td>18375050</td>\n",
       "      <td>108579</td>\n",
       "    </tr>\n",
       "    <tr>\n",
       "      <th>3</th>\n",
       "      <td>California</td>\n",
       "      <td>70529977</td>\n",
       "      <td>515961</td>\n",
       "    </tr>\n",
       "    <tr>\n",
       "      <th>4</th>\n",
       "      <td>Mississippi</td>\n",
       "      <td>3861771</td>\n",
       "      <td>37147</td>\n",
       "    </tr>\n",
       "    <tr>\n",
       "      <th>5</th>\n",
       "      <td>Massachusetts</td>\n",
       "      <td>10447007</td>\n",
       "      <td>92520</td>\n",
       "    </tr>\n",
       "    <tr>\n",
       "      <th>6</th>\n",
       "      <td>Rhode Island</td>\n",
       "      <td>1777094</td>\n",
       "      <td>15941</td>\n",
       "    </tr>\n",
       "    <tr>\n",
       "      <th>7</th>\n",
       "      <td>Kentucky</td>\n",
       "      <td>7654993</td>\n",
       "      <td>63193</td>\n",
       "    </tr>\n",
       "    <tr>\n",
       "      <th>8</th>\n",
       "      <td>Idaho</td>\n",
       "      <td>3892636</td>\n",
       "      <td>33214</td>\n",
       "    </tr>\n",
       "    <tr>\n",
       "      <th>9</th>\n",
       "      <td>New Mexico</td>\n",
       "      <td>4705389</td>\n",
       "      <td>34703</td>\n",
       "    </tr>\n",
       "    <tr>\n",
       "      <th>10</th>\n",
       "      <td>South Carolina</td>\n",
       "      <td>11995482</td>\n",
       "      <td>84929</td>\n",
       "    </tr>\n",
       "    <tr>\n",
       "      <th>11</th>\n",
       "      <td>Alabama</td>\n",
       "      <td>8967499</td>\n",
       "      <td>74967</td>\n",
       "    </tr>\n",
       "    <tr>\n",
       "      <th>12</th>\n",
       "      <td>Hawaii</td>\n",
       "      <td>3111531</td>\n",
       "      <td>21507</td>\n",
       "    </tr>\n",
       "    <tr>\n",
       "      <th>13</th>\n",
       "      <td>Alaska</td>\n",
       "      <td>1051246</td>\n",
       "      <td>12774</td>\n",
       "    </tr>\n",
       "    <tr>\n",
       "      <th>14</th>\n",
       "      <td>South Dakota</td>\n",
       "      <td>1452599</td>\n",
       "      <td>14257</td>\n",
       "    </tr>\n",
       "    <tr>\n",
       "      <th>15</th>\n",
       "      <td>Virginia</td>\n",
       "      <td>15957938</td>\n",
       "      <td>119673</td>\n",
       "    </tr>\n",
       "    <tr>\n",
       "      <th>16</th>\n",
       "      <td>New York</td>\n",
       "      <td>33459761</td>\n",
       "      <td>272189</td>\n",
       "    </tr>\n",
       "    <tr>\n",
       "      <th>17</th>\n",
       "      <td>Maryland</td>\n",
       "      <td>10728483</td>\n",
       "      <td>78144</td>\n",
       "    </tr>\n",
       "    <tr>\n",
       "      <th>18</th>\n",
       "      <td>Texas</td>\n",
       "      <td>66435184</td>\n",
       "      <td>447314</td>\n",
       "    </tr>\n",
       "    <tr>\n",
       "      <th>19</th>\n",
       "      <td>Ohio</td>\n",
       "      <td>23039365</td>\n",
       "      <td>173761</td>\n",
       "    </tr>\n",
       "    <tr>\n",
       "      <th>20</th>\n",
       "      <td>Arkansas</td>\n",
       "      <td>5106056</td>\n",
       "      <td>47246</td>\n",
       "    </tr>\n",
       "    <tr>\n",
       "      <th>21</th>\n",
       "      <td>Delaware</td>\n",
       "      <td>1885948</td>\n",
       "      <td>14706</td>\n",
       "    </tr>\n",
       "    <tr>\n",
       "      <th>22</th>\n",
       "      <td>Wyoming</td>\n",
       "      <td>1141421</td>\n",
       "      <td>12088</td>\n",
       "    </tr>\n",
       "    <tr>\n",
       "      <th>23</th>\n",
       "      <td>Maine</td>\n",
       "      <td>2214773</td>\n",
       "      <td>24853</td>\n",
       "    </tr>\n",
       "    <tr>\n",
       "      <th>24</th>\n",
       "      <td>Tennessee</td>\n",
       "      <td>15951213</td>\n",
       "      <td>111395</td>\n",
       "    </tr>\n",
       "    <tr>\n",
       "      <th>25</th>\n",
       "      <td>Oregon</td>\n",
       "      <td>11012170</td>\n",
       "      <td>93476</td>\n",
       "    </tr>\n",
       "    <tr>\n",
       "      <th>26</th>\n",
       "      <td>West Virginia</td>\n",
       "      <td>2208199</td>\n",
       "      <td>23541</td>\n",
       "    </tr>\n",
       "    <tr>\n",
       "      <th>27</th>\n",
       "      <td>Iowa</td>\n",
       "      <td>4838887</td>\n",
       "      <td>47794</td>\n",
       "    </tr>\n",
       "    <tr>\n",
       "      <th>28</th>\n",
       "      <td>Utah</td>\n",
       "      <td>9081167</td>\n",
       "      <td>58797</td>\n",
       "    </tr>\n",
       "    <tr>\n",
       "      <th>29</th>\n",
       "      <td>Minnesota</td>\n",
       "      <td>9520258</td>\n",
       "      <td>80964</td>\n",
       "    </tr>\n",
       "    <tr>\n",
       "      <th>30</th>\n",
       "      <td>Washington</td>\n",
       "      <td>16541734</td>\n",
       "      <td>121304</td>\n",
       "    </tr>\n",
       "    <tr>\n",
       "      <th>31</th>\n",
       "      <td>Colorado</td>\n",
       "      <td>15681222</td>\n",
       "      <td>106829</td>\n",
       "    </tr>\n",
       "    <tr>\n",
       "      <th>32</th>\n",
       "      <td>Nebraska</td>\n",
       "      <td>3286810</td>\n",
       "      <td>30016</td>\n",
       "    </tr>\n",
       "    <tr>\n",
       "      <th>33</th>\n",
       "      <td>New Jersey</td>\n",
       "      <td>15720266</td>\n",
       "      <td>127276</td>\n",
       "    </tr>\n",
       "    <tr>\n",
       "      <th>34</th>\n",
       "      <td>Wisconsin</td>\n",
       "      <td>10246685</td>\n",
       "      <td>92041</td>\n",
       "    </tr>\n",
       "    <tr>\n",
       "      <th>35</th>\n",
       "      <td>Missouri</td>\n",
       "      <td>13416511</td>\n",
       "      <td>99569</td>\n",
       "    </tr>\n",
       "    <tr>\n",
       "      <th>36</th>\n",
       "      <td>Oklahoma</td>\n",
       "      <td>8482820</td>\n",
       "      <td>68102</td>\n",
       "    </tr>\n",
       "    <tr>\n",
       "      <th>37</th>\n",
       "      <td>Michigan</td>\n",
       "      <td>20776155</td>\n",
       "      <td>158819</td>\n",
       "    </tr>\n",
       "    <tr>\n",
       "      <th>38</th>\n",
       "      <td>Kansas</td>\n",
       "      <td>5546880</td>\n",
       "      <td>46286</td>\n",
       "    </tr>\n",
       "    <tr>\n",
       "      <th>39</th>\n",
       "      <td>North Carolina</td>\n",
       "      <td>22299136</td>\n",
       "      <td>166235</td>\n",
       "    </tr>\n",
       "    <tr>\n",
       "      <th>40</th>\n",
       "      <td>Other</td>\n",
       "      <td>162952</td>\n",
       "      <td>1224</td>\n",
       "    </tr>\n",
       "    <tr>\n",
       "      <th>41</th>\n",
       "      <td>New Hampshire</td>\n",
       "      <td>2648081</td>\n",
       "      <td>24767</td>\n",
       "    </tr>\n",
       "    <tr>\n",
       "      <th>42</th>\n",
       "      <td>Montana</td>\n",
       "      <td>1933939</td>\n",
       "      <td>21680</td>\n",
       "    </tr>\n",
       "    <tr>\n",
       "      <th>43</th>\n",
       "      <td>Connecticut</td>\n",
       "      <td>5181800</td>\n",
       "      <td>49200</td>\n",
       "    </tr>\n",
       "    <tr>\n",
       "      <th>44</th>\n",
       "      <td>Pennsylvania</td>\n",
       "      <td>21944802</td>\n",
       "      <td>190816</td>\n",
       "    </tr>\n",
       "    <tr>\n",
       "      <th>45</th>\n",
       "      <td>District of Columbia</td>\n",
       "      <td>1894317</td>\n",
       "      <td>11060</td>\n",
       "    </tr>\n",
       "    <tr>\n",
       "      <th>46</th>\n",
       "      <td>Indiana</td>\n",
       "      <td>12865167</td>\n",
       "      <td>100391</td>\n",
       "    </tr>\n",
       "    <tr>\n",
       "      <th>47</th>\n",
       "      <td>Louisiana</td>\n",
       "      <td>7536078</td>\n",
       "      <td>63315</td>\n",
       "    </tr>\n",
       "    <tr>\n",
       "      <th>48</th>\n",
       "      <td>Illinois</td>\n",
       "      <td>23096838</td>\n",
       "      <td>179205</td>\n",
       "    </tr>\n",
       "    <tr>\n",
       "      <th>49</th>\n",
       "      <td>Florida</td>\n",
       "      <td>61803524</td>\n",
       "      <td>378020</td>\n",
       "    </tr>\n",
       "    <tr>\n",
       "      <th>50</th>\n",
       "      <td>Vermont</td>\n",
       "      <td>852203</td>\n",
       "      <td>11291</td>\n",
       "    </tr>\n",
       "    <tr>\n",
       "      <th>51</th>\n",
       "      <td>Nevada</td>\n",
       "      <td>8833403</td>\n",
       "      <td>48237</td>\n",
       "    </tr>\n",
       "  </tbody>\n",
       "</table>\n",
       "</div>"
      ],
      "text/plain": [
       "                   state   reviews    meta\n",
       "0           North Dakota   1109558   11987\n",
       "1                Georgia  24060125  166381\n",
       "2                Arizona  18375050  108579\n",
       "3             California  70529977  515961\n",
       "4            Mississippi   3861771   37147\n",
       "5          Massachusetts  10447007   92520\n",
       "6           Rhode Island   1777094   15941\n",
       "7               Kentucky   7654993   63193\n",
       "8                  Idaho   3892636   33214\n",
       "9             New Mexico   4705389   34703\n",
       "10        South Carolina  11995482   84929\n",
       "11               Alabama   8967499   74967\n",
       "12                Hawaii   3111531   21507\n",
       "13                Alaska   1051246   12774\n",
       "14          South Dakota   1452599   14257\n",
       "15              Virginia  15957938  119673\n",
       "16              New York  33459761  272189\n",
       "17              Maryland  10728483   78144\n",
       "18                 Texas  66435184  447314\n",
       "19                  Ohio  23039365  173761\n",
       "20              Arkansas   5106056   47246\n",
       "21              Delaware   1885948   14706\n",
       "22               Wyoming   1141421   12088\n",
       "23                 Maine   2214773   24853\n",
       "24             Tennessee  15951213  111395\n",
       "25                Oregon  11012170   93476\n",
       "26         West Virginia   2208199   23541\n",
       "27                  Iowa   4838887   47794\n",
       "28                  Utah   9081167   58797\n",
       "29             Minnesota   9520258   80964\n",
       "30            Washington  16541734  121304\n",
       "31              Colorado  15681222  106829\n",
       "32              Nebraska   3286810   30016\n",
       "33            New Jersey  15720266  127276\n",
       "34             Wisconsin  10246685   92041\n",
       "35              Missouri  13416511   99569\n",
       "36              Oklahoma   8482820   68102\n",
       "37              Michigan  20776155  158819\n",
       "38                Kansas   5546880   46286\n",
       "39        North Carolina  22299136  166235\n",
       "40                 Other    162952    1224\n",
       "41         New Hampshire   2648081   24767\n",
       "42               Montana   1933939   21680\n",
       "43           Connecticut   5181800   49200\n",
       "44          Pennsylvania  21944802  190816\n",
       "45  District of Columbia   1894317   11060\n",
       "46               Indiana  12865167  100391\n",
       "47             Louisiana   7536078   63315\n",
       "48              Illinois  23096838  179205\n",
       "49               Florida  61803524  378020\n",
       "50               Vermont    852203   11291\n",
       "51                Nevada   8833403   48237"
      ]
     },
     "execution_count": 9,
     "metadata": {},
     "output_type": "execute_result"
    }
   ],
   "source": [
    "entry_counts"
   ]
  },
  {
   "cell_type": "code",
   "execution_count": 10,
   "id": "0d4b182e-f3ff-4de0-8054-bac1c390b2ee",
   "metadata": {},
   "outputs": [
    {
     "data": {
      "text/plain": [
       "666324103"
      ]
     },
     "execution_count": 10,
     "metadata": {},
     "output_type": "execute_result"
    }
   ],
   "source": [
    "entry_counts[\"reviews\"].sum()"
   ]
  },
  {
   "cell_type": "code",
   "execution_count": 11,
   "id": "c3751909-43c3-404a-9a9a-424ac598e104",
   "metadata": {},
   "outputs": [
    {
     "data": {
      "text/plain": [
       "4989684"
      ]
     },
     "execution_count": 11,
     "metadata": {},
     "output_type": "execute_result"
    }
   ],
   "source": [
    "entry_counts[\"meta\"].sum()"
   ]
  },
  {
   "cell_type": "code",
   "execution_count": 56,
   "id": "c62639bc-5845-44c2-8aee-0d270cc9dac9",
   "metadata": {},
   "outputs": [
    {
     "data": {
      "image/png": "[encoded data removed]",
      "text/plain": [
       "<Figure size 640x480 with 1 Axes>"
      ]
     },
     "metadata": {},
     "output_type": "display_data"
    }
   ],
   "source": [
    "sns.scatterplot(sorted(entry_counts[\"reviews\"]))\n",
    "plt.xlabel(\"state number\")\n",
    "plt.ylabel(\"reviews count\")\n",
    "plt.savefig(\"./plots/state-review-count.eps\", format=\"eps\", bbox_inches='tight')"
   ]
  },
  {
   "cell_type": "code",
   "execution_count": 57,
   "id": "3c6ffcf2-34b1-4501-a52d-882e059b6734",
   "metadata": {},
   "outputs": [
    {
     "data": {
      "image/png": "[encoded data removed]",
      "text/plain": [
       "<Figure size 640x480 with 1 Axes>"
      ]
     },
     "metadata": {},
     "output_type": "display_data"
    }
   ],
   "source": [
    "sns.scatterplot([x for _, x in sorted(zip(entry_counts[\"reviews\"], entry_counts[\"meta\"]), key=lambda pair: pair[0])]\n",
    ")\n",
    "plt.xlabel(\"state number\")\n",
    "plt.ylabel(\"meta count\")\n",
    "plt.savefig(\"./plots/state-meta-count.eps\", format=\"eps\", bbox_inches='tight')"
   ]
  },
  {
   "cell_type": "code",
   "execution_count": 14,
   "id": "92f1121c-b8c9-4664-81cd-e75ff0f625df",
   "metadata": {},
   "outputs": [
    {
     "data": {
      "text/html": [
       "<div>\n",
       "<style scoped>\n",
       "    .dataframe tbody tr th:only-of-type {\n",
       "        vertical-align: middle;\n",
       "    }\n",
       "\n",
       "    .dataframe tbody tr th {\n",
       "        vertical-align: top;\n",
       "    }\n",
       "\n",
       "    .dataframe thead th {\n",
       "        text-align: right;\n",
       "    }\n",
       "</style>\n",
       "<table border=\"1\" class=\"dataframe\">\n",
       "  <thead>\n",
       "    <tr style=\"text-align: right;\">\n",
       "      <th></th>\n",
       "      <th>state</th>\n",
       "      <th>reviews</th>\n",
       "      <th>meta</th>\n",
       "    </tr>\n",
       "  </thead>\n",
       "  <tbody>\n",
       "    <tr>\n",
       "      <th>3</th>\n",
       "      <td>California</td>\n",
       "      <td>70529977</td>\n",
       "      <td>515961</td>\n",
       "    </tr>\n",
       "    <tr>\n",
       "      <th>18</th>\n",
       "      <td>Texas</td>\n",
       "      <td>66435184</td>\n",
       "      <td>447314</td>\n",
       "    </tr>\n",
       "    <tr>\n",
       "      <th>49</th>\n",
       "      <td>Florida</td>\n",
       "      <td>61803524</td>\n",
       "      <td>378020</td>\n",
       "    </tr>\n",
       "    <tr>\n",
       "      <th>16</th>\n",
       "      <td>New York</td>\n",
       "      <td>33459761</td>\n",
       "      <td>272189</td>\n",
       "    </tr>\n",
       "    <tr>\n",
       "      <th>1</th>\n",
       "      <td>Georgia</td>\n",
       "      <td>24060125</td>\n",
       "      <td>166381</td>\n",
       "    </tr>\n",
       "  </tbody>\n",
       "</table>\n",
       "</div>"
      ],
      "text/plain": [
       "         state   reviews    meta\n",
       "3   California  70529977  515961\n",
       "18       Texas  66435184  447314\n",
       "49     Florida  61803524  378020\n",
       "16    New York  33459761  272189\n",
       "1      Georgia  24060125  166381"
      ]
     },
     "execution_count": 14,
     "metadata": {},
     "output_type": "execute_result"
    }
   ],
   "source": [
    "entry_counts.sort_values(\"reviews\", ascending=False).head(5)"
   ]
  },
  {
   "cell_type": "code",
   "execution_count": 15,
   "id": "06d97338-880a-43b2-9072-9edca899721d",
   "metadata": {},
   "outputs": [
    {
     "data": {
      "text/html": [
       "<div>\n",
       "<style scoped>\n",
       "    .dataframe tbody tr th:only-of-type {\n",
       "        vertical-align: middle;\n",
       "    }\n",
       "\n",
       "    .dataframe tbody tr th {\n",
       "        vertical-align: top;\n",
       "    }\n",
       "\n",
       "    .dataframe thead th {\n",
       "        text-align: right;\n",
       "    }\n",
       "</style>\n",
       "<table border=\"1\" class=\"dataframe\">\n",
       "  <thead>\n",
       "    <tr style=\"text-align: right;\">\n",
       "      <th></th>\n",
       "      <th>state</th>\n",
       "      <th>reviews</th>\n",
       "      <th>meta</th>\n",
       "    </tr>\n",
       "  </thead>\n",
       "  <tbody>\n",
       "    <tr>\n",
       "      <th>3</th>\n",
       "      <td>California</td>\n",
       "      <td>70529977</td>\n",
       "      <td>515961</td>\n",
       "    </tr>\n",
       "    <tr>\n",
       "      <th>18</th>\n",
       "      <td>Texas</td>\n",
       "      <td>66435184</td>\n",
       "      <td>447314</td>\n",
       "    </tr>\n",
       "    <tr>\n",
       "      <th>49</th>\n",
       "      <td>Florida</td>\n",
       "      <td>61803524</td>\n",
       "      <td>378020</td>\n",
       "    </tr>\n",
       "    <tr>\n",
       "      <th>16</th>\n",
       "      <td>New York</td>\n",
       "      <td>33459761</td>\n",
       "      <td>272189</td>\n",
       "    </tr>\n",
       "    <tr>\n",
       "      <th>44</th>\n",
       "      <td>Pennsylvania</td>\n",
       "      <td>21944802</td>\n",
       "      <td>190816</td>\n",
       "    </tr>\n",
       "  </tbody>\n",
       "</table>\n",
       "</div>"
      ],
      "text/plain": [
       "           state   reviews    meta\n",
       "3     California  70529977  515961\n",
       "18         Texas  66435184  447314\n",
       "49       Florida  61803524  378020\n",
       "16      New York  33459761  272189\n",
       "44  Pennsylvania  21944802  190816"
      ]
     },
     "execution_count": 15,
     "metadata": {},
     "output_type": "execute_result"
    }
   ],
   "source": [
    "entry_counts.sort_values(\"meta\", ascending=False).head(5)"
   ]
  },
  {
   "cell_type": "markdown",
   "id": "79ef134b-0b11-4f0e-8aee-5d36ed964192",
   "metadata": {},
   "source": [
    "## Reading the reviews"
   ]
  },
  {
   "cell_type": "code",
   "execution_count": 16,
   "id": "639f64c1-f809-40b4-8051-5a01bbf15767",
   "metadata": {},
   "outputs": [],
   "source": [
    "from dask.distributed import Client\n",
    "import logging\n",
    "client = Client(silence_logs=logging.ERROR, n_workers=8)"
   ]
  },
  {
   "cell_type": "code",
   "execution_count": 17,
   "id": "bbbcfa7d-8abc-4871-80db-c387a0c0c2a4",
   "metadata": {},
   "outputs": [
    {
     "data": {
      "text/plain": [
       "'http://127.0.0.1:8787/status'"
      ]
     },
     "execution_count": 17,
     "metadata": {},
     "output_type": "execute_result"
    }
   ],
   "source": [
    "client.dashboard_link"
   ]
  },
  {
   "cell_type": "code",
   "execution_count": 18,
   "id": "bbcdc2f8-e284-4f15-8a4b-72f2956792c6",
   "metadata": {},
   "outputs": [],
   "source": [
    "import dask.dataframe as dd"
   ]
  },
  {
   "cell_type": "code",
   "execution_count": 19,
   "id": "e1ce7031-c8c3-41dd-8dfd-25ab668556cd",
   "metadata": {},
   "outputs": [],
   "source": [
    "def read_json_user_id_str(*args, **kwargs):\n",
    "    df = pd.read_json(*args, **kwargs, dtype={\"user_id\": str})\n",
    "    return df"
   ]
  },
  {
   "cell_type": "code",
   "execution_count": 20,
   "id": "c59bad56-6e3d-4f85-b2a6-078683654b8e",
   "metadata": {},
   "outputs": [],
   "source": [
    "reviews = dd.read_json(DATA_DIR / \"review-*.json\", lines=True, \n",
    "                       blocksize=\"32 MiB\", engine=read_json_user_id_str)"
   ]
  },
  {
   "cell_type": "code",
   "execution_count": 21,
   "id": "d88178ca-403c-47da-ac11-269abb4755d9",
   "metadata": {},
   "outputs": [
    {
     "data": {
      "text/plain": [
       "6253"
      ]
     },
     "execution_count": 21,
     "metadata": {},
     "output_type": "execute_result"
    }
   ],
   "source": [
    "reviews.npartitions"
   ]
  },
  {
   "cell_type": "code",
   "execution_count": 22,
   "id": "276217e2-48b7-4b2c-a85d-23ebc362eb35",
   "metadata": {},
   "outputs": [
    {
     "data": {
      "text/plain": [
       "Index(['user_id', 'name', 'time', 'rating', 'text', 'pics', 'resp', 'gmap_id'], dtype='object')"
      ]
     },
     "execution_count": 22,
     "metadata": {},
     "output_type": "execute_result"
    }
   ],
   "source": [
    "reviews.columns"
   ]
  },
  {
   "cell_type": "code",
   "execution_count": 23,
   "id": "6a7b2753-a582-4f26-bdfa-583a3b30fd71",
   "metadata": {},
   "outputs": [
    {
     "data": {
      "text/plain": [
       "user_id    object\n",
       "name       object\n",
       "time        int64\n",
       "rating      int64\n",
       "text       object\n",
       "pics       object\n",
       "resp       object\n",
       "gmap_id    object\n",
       "dtype: object"
      ]
     },
     "execution_count": 23,
     "metadata": {},
     "output_type": "execute_result"
    }
   ],
   "source": [
    "reviews.dtypes"
   ]
  },
  {
   "cell_type": "markdown",
   "id": "651be7bc-3419-482f-8cae-0c5a1069a4b2",
   "metadata": {},
   "source": [
    "## Number of users"
   ]
  },
  {
   "cell_type": "markdown",
   "id": "ecf06fae-33c6-40ad-962b-3f98c4a934f8",
   "metadata": {},
   "source": [
    "**Uwaga!** Kolumna `user_id` zawiera nulle!"
   ]
  },
  {
   "cell_type": "code",
   "execution_count": 24,
   "id": "cff2eaca-ac69-492b-ae53-dec1e0d9570d",
   "metadata": {},
   "outputs": [],
   "source": [
    "# reviews[\"user_id\"].nunique().compute()"
   ]
  },
  {
   "cell_type": "markdown",
   "id": "06bc4d22-c2d1-45f5-ac0f-291b14792c85",
   "metadata": {},
   "source": [
    "## Ratings distribution"
   ]
  },
  {
   "cell_type": "code",
   "execution_count": 26,
   "id": "a691687f-f493-4056-84b9-df353030ddf5",
   "metadata": {},
   "outputs": [
    {
     "name": "stderr",
     "output_type": "stream",
     "text": [
      "Exception ignored in: <function WeakSet.__init__.<locals>._remove at 0x7fa0b266e560>\n",
      "Traceback (most recent call last):\n",
      "  File \"/home/pawel/miniconda3/envs/dask/lib/python3.10/_weakrefset.py\", line 39, in _remove\n",
      "    def _remove(item, selfref=ref(self)):\n",
      "KeyboardInterrupt: \n",
      "\n",
      "KeyboardInterrupt\n",
      "\n",
      "Task exception was never retrieved\n",
      "future: <Task finished name='Task-626' coro=<Client._gather.<locals>.wait() done, defined at /home/pawel/miniconda3/envs/dask/lib/python3.10/site-packages/distributed/client.py:2173> exception=AllExit()>\n",
      "Traceback (most recent call last):\n",
      "  File \"/home/pawel/miniconda3/envs/dask/lib/python3.10/site-packages/distributed/client.py\", line 2182, in wait\n",
      "    raise AllExit()\n",
      "distributed.client.AllExit\n"
     ]
    }
   ],
   "source": [
    "rating_counts = reviews.groupby(\"rating\")[\"rating\"].count().compute()\n",
    "rating_counts"
   ]
  },
  {
   "cell_type": "code",
   "execution_count": null,
   "id": "13d40d14-8c47-43d9-860d-62a513fa371d",
   "metadata": {},
   "outputs": [],
   "source": [
    "rating_counts[rating_counts.index < 3.5].sum()"
   ]
  },
  {
   "cell_type": "code",
   "execution_count": null,
   "id": "56702ad1-42b6-428b-965a-815ea9310199",
   "metadata": {},
   "outputs": [],
   "source": [
    "rating_counts[rating_counts.index >= 3.5].sum()"
   ]
  },
  {
   "cell_type": "code",
   "execution_count": null,
   "id": "6440b86e-9993-4500-866f-912c6730d012",
   "metadata": {},
   "outputs": [],
   "source": [
    "rating_counts.to_frame(name=\"count\").reset_index()"
   ]
  },
  {
   "cell_type": "code",
   "execution_count": 27,
   "id": "bc4704ed-158f-4389-8237-f2f14b55d05a",
   "metadata": {},
   "outputs": [],
   "source": [
    "rating_counts=pd.DataFrame({\"rating\": [1, 2, 3, 4, 5], \"count\": [\n",
    "    47614525, 21466406, 52491124, 120256559, 420254855\n",
    "]})"
   ]
  },
  {
   "cell_type": "code",
   "execution_count": 58,
   "id": "866ecfef-8917-4307-82b9-ec7a11da8d98",
   "metadata": {},
   "outputs": [
    {
     "data": {
      "image/png": "[encoded data removed]",
      "text/plain": [
       "<Figure size 640x480 with 1 Axes>"
      ]
     },
     "metadata": {},
     "output_type": "display_data"
    }
   ],
   "source": [
    "sns.barplot(rating_counts, x=\"rating\", y=\"count\")\n",
    "plt.xlabel(\"rating\")\n",
    "plt.ylabel(\"count\")\n",
    "plt.savefig(\"./plots/rating-count.eps\", format=\"eps\", bbox_inches='tight')"
   ]
  },
  {
   "cell_type": "code",
   "execution_count": 37,
   "id": "5ce28ac0-d207-4059-8555-6bbcf19d4a61",
   "metadata": {},
   "outputs": [
    {
     "data": {
      "text/html": [
       "<div>\n",
       "<style scoped>\n",
       "    .dataframe tbody tr th:only-of-type {\n",
       "        vertical-align: middle;\n",
       "    }\n",
       "\n",
       "    .dataframe tbody tr th {\n",
       "        vertical-align: top;\n",
       "    }\n",
       "\n",
       "    .dataframe thead th {\n",
       "        text-align: right;\n",
       "    }\n",
       "</style>\n",
       "<table border=\"1\" class=\"dataframe\">\n",
       "  <thead>\n",
       "    <tr style=\"text-align: right;\">\n",
       "      <th></th>\n",
       "      <th>rating</th>\n",
       "      <th>count</th>\n",
       "    </tr>\n",
       "  </thead>\n",
       "  <tbody>\n",
       "    <tr>\n",
       "      <th>0</th>\n",
       "      <td>1</td>\n",
       "      <td>47614525</td>\n",
       "    </tr>\n",
       "    <tr>\n",
       "      <th>1</th>\n",
       "      <td>2</td>\n",
       "      <td>21466406</td>\n",
       "    </tr>\n",
       "    <tr>\n",
       "      <th>2</th>\n",
       "      <td>3</td>\n",
       "      <td>52491124</td>\n",
       "    </tr>\n",
       "    <tr>\n",
       "      <th>3</th>\n",
       "      <td>4</td>\n",
       "      <td>120256559</td>\n",
       "    </tr>\n",
       "    <tr>\n",
       "      <th>4</th>\n",
       "      <td>5</td>\n",
       "      <td>420254855</td>\n",
       "    </tr>\n",
       "  </tbody>\n",
       "</table>\n",
       "</div>"
      ],
      "text/plain": [
       "   rating      count\n",
       "0       1   47614525\n",
       "1       2   21466406\n",
       "2       3   52491124\n",
       "3       4  120256559\n",
       "4       5  420254855"
      ]
     },
     "execution_count": 37,
     "metadata": {},
     "output_type": "execute_result"
    }
   ],
   "source": [
    "rating_counts"
   ]
  },
  {
   "cell_type": "code",
   "execution_count": 38,
   "id": "b0df2429-98b2-4812-888c-4b9f9043a3c9",
   "metadata": {},
   "outputs": [
    {
     "data": {
      "text/html": [
       "<div>\n",
       "<style scoped>\n",
       "    .dataframe tbody tr th:only-of-type {\n",
       "        vertical-align: middle;\n",
       "    }\n",
       "\n",
       "    .dataframe tbody tr th {\n",
       "        vertical-align: top;\n",
       "    }\n",
       "\n",
       "    .dataframe thead th {\n",
       "        text-align: right;\n",
       "    }\n",
       "</style>\n",
       "<table border=\"1\" class=\"dataframe\">\n",
       "  <thead>\n",
       "    <tr style=\"text-align: right;\">\n",
       "      <th></th>\n",
       "      <th>rating</th>\n",
       "      <th>count</th>\n",
       "    </tr>\n",
       "  </thead>\n",
       "  <tbody>\n",
       "    <tr>\n",
       "      <th>0</th>\n",
       "      <td>1</td>\n",
       "      <td>47614525</td>\n",
       "    </tr>\n",
       "    <tr>\n",
       "      <th>1</th>\n",
       "      <td>2</td>\n",
       "      <td>21466406</td>\n",
       "    </tr>\n",
       "    <tr>\n",
       "      <th>2</th>\n",
       "      <td>3</td>\n",
       "      <td>52491124</td>\n",
       "    </tr>\n",
       "    <tr>\n",
       "      <th>3</th>\n",
       "      <td>4</td>\n",
       "      <td>120256559</td>\n",
       "    </tr>\n",
       "    <tr>\n",
       "      <th>4</th>\n",
       "      <td>5</td>\n",
       "      <td>420254855</td>\n",
       "    </tr>\n",
       "  </tbody>\n",
       "</table>\n",
       "</div>"
      ],
      "text/plain": [
       "   rating      count\n",
       "0       1   47614525\n",
       "1       2   21466406\n",
       "2       3   52491124\n",
       "3       4  120256559\n",
       "4       5  420254855"
      ]
     },
     "execution_count": 38,
     "metadata": {},
     "output_type": "execute_result"
    }
   ],
   "source": [
    "rating_counts"
   ]
  },
  {
   "cell_type": "code",
   "execution_count": 39,
   "id": "defd5993-3644-4370-9510-cd25f183773f",
   "metadata": {},
   "outputs": [
    {
     "data": {
      "text/html": [
       "<div>\n",
       "<style scoped>\n",
       "    .dataframe tbody tr th:only-of-type {\n",
       "        vertical-align: middle;\n",
       "    }\n",
       "\n",
       "    .dataframe tbody tr th {\n",
       "        vertical-align: top;\n",
       "    }\n",
       "\n",
       "    .dataframe thead th {\n",
       "        text-align: right;\n",
       "    }\n",
       "</style>\n",
       "<table border=\"1\" class=\"dataframe\">\n",
       "  <thead>\n",
       "    <tr style=\"text-align: right;\">\n",
       "      <th></th>\n",
       "      <th>count</th>\n",
       "    </tr>\n",
       "    <tr>\n",
       "      <th>rating</th>\n",
       "      <th></th>\n",
       "    </tr>\n",
       "  </thead>\n",
       "  <tbody>\n",
       "    <tr>\n",
       "      <th>rating&lt;3.5</th>\n",
       "      <td>121572055</td>\n",
       "    </tr>\n",
       "    <tr>\n",
       "      <th>rating&gt;3.5</th>\n",
       "      <td>540511414</td>\n",
       "    </tr>\n",
       "  </tbody>\n",
       "</table>\n",
       "</div>"
      ],
      "text/plain": [
       "                count\n",
       "rating               \n",
       "rating<3.5  121572055\n",
       "rating>3.5  540511414"
      ]
     },
     "execution_count": 39,
     "metadata": {},
     "output_type": "execute_result"
    }
   ],
   "source": [
    "rating_counts_split = rating_counts.set_index(\"rating\").groupby(lambda x: \"rating<3.5\" if x < 3.5 else \"rating>3.5\").sum()\n",
    "rating_counts_split"
   ]
  },
  {
   "cell_type": "code",
   "execution_count": 59,
   "id": "64aefd39-e42d-4a9d-97a0-669561cda9fa",
   "metadata": {},
   "outputs": [
    {
     "data": {
      "image/png": "[encoded data removed]",
      "text/plain": [
       "<Figure size 640x480 with 1 Axes>"
      ]
     },
     "metadata": {},
     "output_type": "display_data"
    }
   ],
   "source": [
    "sns.barplot(rating_counts_split.reset_index(), x=\"rating\", y=\"count\")\n",
    "plt.xlabel(\"rating\")\n",
    "plt.ylabel(\"count\")\n",
    "plt.savefig(\"./plots/rating-split-count.eps\", format=\"eps\", bbox_inches='tight')"
   ]
  },
  {
   "cell_type": "markdown",
   "id": "49d3c0c6-f261-4515-a54c-3a3dd79313f9",
   "metadata": {},
   "source": [
    "## String length of user_id"
   ]
  },
  {
   "cell_type": "code",
   "execution_count": null,
   "id": "1510b88d-8441-4548-bb49-6a9480497ed5",
   "metadata": {},
   "outputs": [],
   "source": [
    "user_id_len_histogram = reviews[\"user_id\"].str.len().value_counts().compute()"
   ]
  },
  {
   "cell_type": "code",
   "execution_count": null,
   "id": "46732404-ec29-473d-8d65-ad585aed6a8e",
   "metadata": {},
   "outputs": [],
   "source": [
    "user_id_len_histogram"
   ]
  },
  {
   "cell_type": "markdown",
   "id": "8df968f4-ff66-4267-a779-ed670a2b83ca",
   "metadata": {},
   "source": [
    "## String length of gmap_id"
   ]
  },
  {
   "cell_type": "code",
   "execution_count": null,
   "id": "87cc6950-6aac-4869-a3c2-4fb06a06ca78",
   "metadata": {},
   "outputs": [],
   "source": [
    "gmap_id_len_histogram = reviews[\"gmap_id\"].str.len().value_counts().compute()"
   ]
  },
  {
   "cell_type": "code",
   "execution_count": null,
   "id": "f8f9a711-7984-4850-8742-106273aa0bdd",
   "metadata": {},
   "outputs": [],
   "source": [
    "gmap_id_len_histogram"
   ]
  },
  {
   "cell_type": "markdown",
   "id": "80fd8ec7-857b-414c-a88a-b822f22ddc3e",
   "metadata": {},
   "source": [
    "## Meta"
   ]
  },
  {
   "cell_type": "code",
   "execution_count": 65,
   "id": "fc6fb158-9fac-40b8-872b-965c1737a47d",
   "metadata": {},
   "outputs": [
    {
     "ename": "NameError",
     "evalue": "name 'reviews' is not defined",
     "output_type": "error",
     "traceback": [
      "\u001b[0;31m---------------------------------------------------------------------------\u001b[0m",
      "\u001b[0;31mNameError\u001b[0m                                 Traceback (most recent call last)",
      "Cell \u001b[0;32mIn[65], line 1\u001b[0m\n\u001b[0;32m----> 1\u001b[0m \u001b[38;5;28;01mdel\u001b[39;00m reviews\n",
      "\u001b[0;31mNameError\u001b[0m: name 'reviews' is not defined"
     ]
    }
   ],
   "source": [
    "del reviews"
   ]
  },
  {
   "cell_type": "code",
   "execution_count": 66,
   "id": "30292de8-084c-4471-bef8-2edb864ccd60",
   "metadata": {},
   "outputs": [],
   "source": [
    "from unidecode import unidecode"
   ]
  },
  {
   "cell_type": "code",
   "execution_count": 67,
   "id": "3266ddcd-28f7-4138-a78a-1f84867f1c5f",
   "metadata": {},
   "outputs": [],
   "source": [
    "def read_json_add_state(*args, **kwargs):\n",
    "    df = pd.read_json(*args, **kwargs)\n",
    "    # add or drop necessary columns here\n",
    "    df[\"state\"] = df.get(\"state\", None)\n",
    "    df = df[['name', 'address', 'gmap_id', 'description', 'latitude', 'longitude',\n",
    "       'category', 'avg_rating', 'num_of_reviews', 'price', 'hours', 'MISC',\n",
    "       'state', 'relative_results', 'url']]\n",
    "    df[\"category\"] = df[\"category\"].apply(lambda x: list(map(unidecode, x)) if x else x)\n",
    "    return df"
   ]
  },
  {
   "cell_type": "code",
   "execution_count": 68,
   "id": "c8361b7e-e469-49a7-8cf1-fc9479aae9dd",
   "metadata": {},
   "outputs": [],
   "source": [
    "import pandas as pd\n",
    "meta = dd.read_json(DATA_DIR / \"meta-*.json\", lines=True, engine=read_json_add_state, blocksize=\"32 MiB\")"
   ]
  },
  {
   "cell_type": "code",
   "execution_count": 69,
   "id": "7be91f5d-2c46-497a-ae3d-b46ee1e3383f",
   "metadata": {},
   "outputs": [
    {
     "data": {
      "text/plain": [
       "146"
      ]
     },
     "execution_count": 69,
     "metadata": {},
     "output_type": "execute_result"
    }
   ],
   "source": [
    "meta.npartitions"
   ]
  },
  {
   "cell_type": "markdown",
   "id": "aa2fffe4-27c4-43ae-9bdb-46ff9f99a216",
   "metadata": {},
   "source": [
    "## Nullable columns"
   ]
  },
  {
   "cell_type": "code",
   "execution_count": 70,
   "id": "a694bee5-7c72-4bf9-bcc8-2ade40cba6f1",
   "metadata": {},
   "outputs": [
    {
     "data": {
      "text/plain": [
       "name                 True\n",
       "address              True\n",
       "gmap_id             False\n",
       "description          True\n",
       "latitude            False\n",
       "longitude           False\n",
       "category             True\n",
       "avg_rating          False\n",
       "num_of_reviews      False\n",
       "price                True\n",
       "hours                True\n",
       "MISC                 True\n",
       "state                True\n",
       "relative_results     True\n",
       "url                 False\n",
       "dtype: bool"
      ]
     },
     "execution_count": 70,
     "metadata": {},
     "output_type": "execute_result"
    }
   ],
   "source": [
    "meta.isnull().any().compute()"
   ]
  },
  {
   "cell_type": "markdown",
   "id": "a53aeef7-044d-4d5f-8d9c-9c443207b969",
   "metadata": {},
   "source": [
    "## Number of distinct categories and their individual counts"
   ]
  },
  {
   "cell_type": "code",
   "execution_count": 71,
   "id": "4e5b90b7-c70e-43f2-b688-602385a42a05",
   "metadata": {},
   "outputs": [],
   "source": [
    "category_histogram = meta[\"category\"].explode().value_counts().compute()"
   ]
  },
  {
   "cell_type": "code",
   "execution_count": 72,
   "id": "fa819586-61b2-4325-8554-928da4efafe4",
   "metadata": {},
   "outputs": [
    {
     "data": {
      "text/plain": [
       "category\n",
       "Restaurant                 332567\n",
       "Fast food restaurant       150474\n",
       "Auto repair shop           122044\n",
       "Gas station                120180\n",
       "Takeout Restaurant         101947\n",
       "                            ...  \n",
       "Pipe manufacturer               1\n",
       "Freelance professionals         1\n",
       "Citizens advice bureau          1\n",
       "Citroen dealer                  1\n",
       "Hobbies                         1\n",
       "Name: count, Length: 4569, dtype: int64"
      ]
     },
     "execution_count": 72,
     "metadata": {},
     "output_type": "execute_result"
    }
   ],
   "source": [
    "category_histogram"
   ]
  },
  {
   "cell_type": "markdown",
   "id": "5fc1d895-dd6b-4b32-bca2-7a3a9e38fede",
   "metadata": {},
   "source": [
    "## Most popular categories"
   ]
  },
  {
   "cell_type": "code",
   "execution_count": 73,
   "id": "1da07720-46f1-478a-b2ac-7218e4b17ea4",
   "metadata": {},
   "outputs": [
    {
     "data": {
      "image/png": "[encoded data removed]",
      "text/plain": [
       "<Figure size 640x480 with 1 Axes>"
      ]
     },
     "metadata": {},
     "output_type": "display_data"
    }
   ],
   "source": [
    "sns.barplot(category_histogram.sort_values(ascending=False).head(10).to_frame(name=\"count\").reset_index(), x=\"category\", y=\"count\")\n",
    "plt.xlabel(\"category\")\n",
    "plt.ylabel(\"count\")\n",
    "plt.xticks(rotation=90)\n",
    "plt.savefig(\"./plots/category-count.eps\", format=\"eps\", bbox_inches='tight')"
   ]
  },
  {
   "cell_type": "markdown",
   "id": "fb13f826-9076-41a0-9894-f0020001cd31",
   "metadata": {},
   "source": [
    "## Number of categories per item"
   ]
  },
  {
   "cell_type": "code",
   "execution_count": 74,
   "id": "123dd86e-7433-41ed-87bb-06bd20525080",
   "metadata": {},
   "outputs": [
    {
     "name": "stderr",
     "output_type": "stream",
     "text": [
      "/home/pawel/miniconda3/envs/dask/lib/python3.10/site-packages/dask/dataframe/core.py:4341: UserWarning: \n",
      "You did not provide metadata, so Dask is running your function on a small dataset to guess output types. It is possible that Dask will guess incorrectly.\n",
      "To provide an explicit output types or to silence this message, please provide the `meta=` keyword, as described in the map or apply function that you are using.\n",
      "  Before: .apply(func)\n",
      "  After:  .apply(func, meta=('num_categories', 'int64'))\n",
      "\n",
      "  warnings.warn(meta_warning(meta))\n",
      "2023-09-15 10:12:07,697 - distributed.worker - ERROR - Worker stream died during communication: tcp://127.0.0.1:34271\n",
      "Traceback (most recent call last):\n",
      "  File \"/home/pawel/miniconda3/envs/dask/lib/python3.10/site-packages/distributed/comm/tcp.py\", line 225, in read\n",
      "    frames_nbytes = await stream.read_bytes(fmt_size)\n",
      "tornado.iostream.StreamClosedError: Stream is closed\n",
      "\n",
      "The above exception was the direct cause of the following exception:\n",
      "\n",
      "Traceback (most recent call last):\n",
      "  File \"/home/pawel/miniconda3/envs/dask/lib/python3.10/site-packages/distributed/worker.py\", line 2066, in gather_dep\n",
      "    response = await get_data_from_worker(\n",
      "  File \"/home/pawel/miniconda3/envs/dask/lib/python3.10/site-packages/distributed/worker.py\", line 2892, in get_data_from_worker\n",
      "    response = await send_recv(\n",
      "  File \"/home/pawel/miniconda3/envs/dask/lib/python3.10/site-packages/distributed/core.py\", line 1024, in send_recv\n",
      "    response = await comm.read(deserializers=deserializers)\n",
      "  File \"/home/pawel/miniconda3/envs/dask/lib/python3.10/site-packages/distributed/comm/tcp.py\", line 241, in read\n",
      "    convert_stream_closed_error(self, e)\n",
      "  File \"/home/pawel/miniconda3/envs/dask/lib/python3.10/site-packages/distributed/comm/tcp.py\", line 144, in convert_stream_closed_error\n",
      "    raise CommClosedError(f\"in {obj}: {exc}\") from exc\n",
      "distributed.comm.core.CommClosedError: in <TCP (closed) Ephemeral Worker->Worker for gather local=tcp://127.0.0.1:51428 remote=tcp://127.0.0.1:34271>: Stream is closed\n",
      "2023-09-15 10:12:19,544 - distributed.worker - ERROR - Worker stream died during communication: tcp://127.0.0.1:42765\n",
      "Traceback (most recent call last):\n",
      "  File \"/home/pawel/miniconda3/envs/dask/lib/python3.10/site-packages/distributed/comm/tcp.py\", line 317, in write\n",
      "    raise StreamClosedError()\n",
      "tornado.iostream.StreamClosedError: Stream is closed\n",
      "\n",
      "The above exception was the direct cause of the following exception:\n",
      "\n",
      "Traceback (most recent call last):\n",
      "  File \"/home/pawel/miniconda3/envs/dask/lib/python3.10/site-packages/distributed/worker.py\", line 2066, in gather_dep\n",
      "    response = await get_data_from_worker(\n",
      "  File \"/home/pawel/miniconda3/envs/dask/lib/python3.10/site-packages/distributed/worker.py\", line 2907, in get_data_from_worker\n",
      "    await comm.write(\"OK\")\n",
      "  File \"/home/pawel/miniconda3/envs/dask/lib/python3.10/site-packages/distributed/comm/tcp.py\", line 328, in write\n",
      "    convert_stream_closed_error(self, e)\n",
      "  File \"/home/pawel/miniconda3/envs/dask/lib/python3.10/site-packages/distributed/comm/tcp.py\", line 144, in convert_stream_closed_error\n",
      "    raise CommClosedError(f\"in {obj}: {exc}\") from exc\n",
      "distributed.comm.core.CommClosedError: in <TCP (closed) Ephemeral Worker->Worker for gather local=tcp://127.0.0.1:48922 remote=tcp://127.0.0.1:42765>: Stream is closed\n",
      "2023-09-15 10:12:19,927 - distributed.worker - ERROR - Worker stream died during communication: tcp://127.0.0.1:42765\n",
      "Traceback (most recent call last):\n",
      "  File \"/home/pawel/miniconda3/envs/dask/lib/python3.10/site-packages/distributed/comm/tcp.py\", line 317, in write\n",
      "    raise StreamClosedError()\n",
      "tornado.iostream.StreamClosedError: Stream is closed\n",
      "\n",
      "The above exception was the direct cause of the following exception:\n",
      "\n",
      "Traceback (most recent call last):\n",
      "  File \"/home/pawel/miniconda3/envs/dask/lib/python3.10/site-packages/distributed/worker.py\", line 2066, in gather_dep\n",
      "    response = await get_data_from_worker(\n",
      "  File \"/home/pawel/miniconda3/envs/dask/lib/python3.10/site-packages/distributed/worker.py\", line 2892, in get_data_from_worker\n",
      "    response = await send_recv(\n",
      "  File \"/home/pawel/miniconda3/envs/dask/lib/python3.10/site-packages/distributed/core.py\", line 1022, in send_recv\n",
      "    await comm.write(msg, serializers=serializers, on_error=\"raise\")\n",
      "  File \"/home/pawel/miniconda3/envs/dask/lib/python3.10/site-packages/distributed/comm/tcp.py\", line 328, in write\n",
      "    convert_stream_closed_error(self, e)\n",
      "  File \"/home/pawel/miniconda3/envs/dask/lib/python3.10/site-packages/distributed/comm/tcp.py\", line 144, in convert_stream_closed_error\n",
      "    raise CommClosedError(f\"in {obj}: {exc}\") from exc\n",
      "distributed.comm.core.CommClosedError: in <TCP (closed) Ephemeral Worker->Worker for gather local=tcp://127.0.0.1:35096 remote=tcp://127.0.0.1:42765>: Stream is closed\n"
     ]
    }
   ],
   "source": [
    "num_categories_histogram = meta[\"category\"].rename(\"num_categories\").dropna().apply(len).value_counts().compute()"
   ]
  },
  {
   "cell_type": "code",
   "execution_count": 75,
   "id": "9d9540c0-2a7b-4566-b9ca-2a3de62b2443",
   "metadata": {},
   "outputs": [
    {
     "data": {
      "text/plain": [
       "num_categories\n",
       "1     2642895\n",
       "2      846624\n",
       "3      451914\n",
       "4      325893\n",
       "5      279367\n",
       "6      153747\n",
       "7       95568\n",
       "10      74671\n",
       "8       55520\n",
       "9       41361\n",
       "11        798\n",
       "12         97\n",
       "13         59\n",
       "14         20\n",
       "15         13\n",
       "16          6\n",
       "17          3\n",
       "18          3\n",
       "19          1\n",
       "21          1\n",
       "22          1\n",
       "23          1\n",
       "32          1\n",
       "Name: count, dtype: int64"
      ]
     },
     "execution_count": 75,
     "metadata": {},
     "output_type": "execute_result"
    }
   ],
   "source": [
    "num_categories_histogram"
   ]
  },
  {
   "cell_type": "code",
   "execution_count": 91,
   "id": "e7540446-86ba-488d-b0e7-ca9304e2d344",
   "metadata": {},
   "outputs": [
    {
     "data": {
      "image/png": "[encoded data removed]",
      "text/plain": [
       "<Figure size 640x480 with 1 Axes>"
      ]
     },
     "metadata": {},
     "output_type": "display_data"
    }
   ],
   "source": [
    "g = sns.barplot(num_categories_histogram.to_frame(name=\"count\").reset_index(), x=\"num_categories\", y=\"count\")\n",
    "g.xaxis.set_major_locator(plt.MaxNLocator(15))\n",
    "plt.savefig(\"./plots/num-categories-count.eps\", format=\"eps\", bbox_inches='tight')"
   ]
  },
  {
   "cell_type": "markdown",
   "id": "d6b382ec-b2e7-4c27-94d1-401e0fde1218",
   "metadata": {},
   "source": [
    "## Categories merged as string"
   ]
  },
  {
   "cell_type": "code",
   "execution_count": 77,
   "id": "930c91f6-f4ab-439f-bec0-4b207c2827e5",
   "metadata": {},
   "outputs": [
    {
     "name": "stderr",
     "output_type": "stream",
     "text": [
      "/home/pawel/miniconda3/envs/dask/lib/python3.10/site-packages/dask/dataframe/core.py:4341: UserWarning: \n",
      "You did not provide metadata, so Dask is running your function on a small dataset to guess output types. It is possible that Dask will guess incorrectly.\n",
      "To provide an explicit output types or to silence this message, please provide the `meta=` keyword, as described in the map or apply function that you are using.\n",
      "  Before: .apply(func)\n",
      "  After:  .apply(func, meta=('categories_merged_len', 'int64'))\n",
      "\n",
      "  warnings.warn(meta_warning(meta))\n",
      "2023-09-15 10:13:46,189 - distributed.worker - ERROR - failed during get data with tcp://127.0.0.1:45341 -> tcp://127.0.0.1:42167\n",
      "Traceback (most recent call last):\n",
      "  File \"/home/pawel/miniconda3/envs/dask/lib/python3.10/site-packages/distributed/comm/tcp.py\", line 225, in read\n",
      "    frames_nbytes = await stream.read_bytes(fmt_size)\n",
      "tornado.iostream.StreamClosedError: Stream is closed\n",
      "\n",
      "The above exception was the direct cause of the following exception:\n",
      "\n",
      "Traceback (most recent call last):\n",
      "  File \"/home/pawel/miniconda3/envs/dask/lib/python3.10/site-packages/distributed/worker.py\", line 1793, in get_data\n",
      "    response = await comm.read(deserializers=serializers)\n",
      "  File \"/home/pawel/miniconda3/envs/dask/lib/python3.10/site-packages/distributed/comm/tcp.py\", line 241, in read\n",
      "    convert_stream_closed_error(self, e)\n",
      "  File \"/home/pawel/miniconda3/envs/dask/lib/python3.10/site-packages/distributed/comm/tcp.py\", line 144, in convert_stream_closed_error\n",
      "    raise CommClosedError(f\"in {obj}: {exc}\") from exc\n",
      "distributed.comm.core.CommClosedError: in <TCP (closed)  local=tcp://127.0.0.1:45341 remote=tcp://127.0.0.1:49662>: Stream is closed\n",
      "2023-09-15 10:13:46,667 - distributed.worker - ERROR - failed during get data with tcp://127.0.0.1:40287 -> tcp://127.0.0.1:42167\n",
      "Traceback (most recent call last):\n",
      "  File \"/home/pawel/miniconda3/envs/dask/lib/python3.10/site-packages/tornado/iostream.py\", line 861, in _read_to_buffer\n",
      "    bytes_read = self.read_from_fd(buf)\n",
      "  File \"/home/pawel/miniconda3/envs/dask/lib/python3.10/site-packages/tornado/iostream.py\", line 1116, in read_from_fd\n",
      "    return self.socket.recv_into(buf, len(buf))\n",
      "ConnectionResetError: [Errno 104] Connection reset by peer\n",
      "\n",
      "The above exception was the direct cause of the following exception:\n",
      "\n",
      "Traceback (most recent call last):\n",
      "  File \"/home/pawel/miniconda3/envs/dask/lib/python3.10/site-packages/distributed/worker.py\", line 1793, in get_data\n",
      "    response = await comm.read(deserializers=serializers)\n",
      "  File \"/home/pawel/miniconda3/envs/dask/lib/python3.10/site-packages/distributed/comm/tcp.py\", line 241, in read\n",
      "    convert_stream_closed_error(self, e)\n",
      "  File \"/home/pawel/miniconda3/envs/dask/lib/python3.10/site-packages/distributed/comm/tcp.py\", line 142, in convert_stream_closed_error\n",
      "    raise CommClosedError(f\"in {obj}: {exc.__class__.__name__}: {exc}\") from exc\n",
      "distributed.comm.core.CommClosedError: in <TCP (closed)  local=tcp://127.0.0.1:40287 remote=tcp://127.0.0.1:42422>: ConnectionResetError: [Errno 104] Connection reset by peer\n",
      "2023-09-15 10:13:47,760 - distributed.worker - ERROR - failed during get data with tcp://127.0.0.1:36545 -> tcp://127.0.0.1:42167\n",
      "Traceback (most recent call last):\n",
      "  File \"/home/pawel/miniconda3/envs/dask/lib/python3.10/site-packages/tornado/iostream.py\", line 861, in _read_to_buffer\n",
      "    bytes_read = self.read_from_fd(buf)\n",
      "  File \"/home/pawel/miniconda3/envs/dask/lib/python3.10/site-packages/tornado/iostream.py\", line 1116, in read_from_fd\n",
      "    return self.socket.recv_into(buf, len(buf))\n",
      "ConnectionResetError: [Errno 104] Connection reset by peer\n",
      "\n",
      "The above exception was the direct cause of the following exception:\n",
      "\n",
      "Traceback (most recent call last):\n",
      "  File \"/home/pawel/miniconda3/envs/dask/lib/python3.10/site-packages/distributed/worker.py\", line 1793, in get_data\n",
      "    response = await comm.read(deserializers=serializers)\n",
      "  File \"/home/pawel/miniconda3/envs/dask/lib/python3.10/site-packages/distributed/comm/tcp.py\", line 241, in read\n",
      "    convert_stream_closed_error(self, e)\n",
      "  File \"/home/pawel/miniconda3/envs/dask/lib/python3.10/site-packages/distributed/comm/tcp.py\", line 142, in convert_stream_closed_error\n",
      "    raise CommClosedError(f\"in {obj}: {exc.__class__.__name__}: {exc}\") from exc\n",
      "distributed.comm.core.CommClosedError: in <TCP (closed)  local=tcp://127.0.0.1:36545 remote=tcp://127.0.0.1:60846>: ConnectionResetError: [Errno 104] Connection reset by peer\n"
     ]
    }
   ],
   "source": [
    "categories_as_str_len_histogram = meta[\"category\"].rename(\"categories_merged_len\").dropna().str.join('|').apply(len).value_counts().compute()"
   ]
  },
  {
   "cell_type": "code",
   "execution_count": 78,
   "id": "481d96db-21a0-4b3f-8cde-c68ce817f24f",
   "metadata": {},
   "outputs": [
    {
     "data": {
      "text/plain": [
       "categories_merged_len\n",
       "11     258627\n",
       "16     243993\n",
       "10     242324\n",
       "12     175458\n",
       "18     168704\n",
       "        ...  \n",
       "287         1\n",
       "284         1\n",
       "283         1\n",
       "282         1\n",
       "468         1\n",
       "Name: count, Length: 309, dtype: int64"
      ]
     },
     "execution_count": 78,
     "metadata": {},
     "output_type": "execute_result"
    }
   ],
   "source": [
    "categories_as_str_len_histogram"
   ]
  },
  {
   "cell_type": "code",
   "execution_count": 79,
   "id": "bb332e5f-bb05-4a1c-b8d7-95b16b3a50ab",
   "metadata": {},
   "outputs": [
    {
     "data": {
      "image/png": "[encoded data removed]",
      "text/plain": [
       "<Figure size 640x480 with 1 Axes>"
      ]
     },
     "metadata": {},
     "output_type": "display_data"
    }
   ],
   "source": [
    "plt.hist(categories_as_str_len_histogram.index, bins=10, weights=categories_as_str_len_histogram)\n",
    "plt.xlabel(\"categories_merged_len\")\n",
    "plt.ylabel(\"count\")\n",
    "plt.savefig(\"./plots/categories-as-str-len-count.eps\", format=\"eps\", bbox_inches='tight')"
   ]
  },
  {
   "cell_type": "code",
   "execution_count": null,
   "id": "e869cafd-6ed5-4c07-81c5-18aeb6d9478f",
   "metadata": {},
   "outputs": [
    {
     "name": "stderr",
     "output_type": "stream",
     "text": [
      "2023-09-15 10:01:33,513 - distributed.worker - ERROR - Worker stream died during communication: tcp://127.0.0.1:44287\n",
      "Traceback (most recent call last):\n",
      "  File \"/home/pawel/miniconda3/envs/dask/lib/python3.10/site-packages/tornado/iostream.py\", line 861, in _read_to_buffer\n",
      "    bytes_read = self.read_from_fd(buf)\n",
      "  File \"/home/pawel/miniconda3/envs/dask/lib/python3.10/site-packages/tornado/iostream.py\", line 1116, in read_from_fd\n",
      "    return self.socket.recv_into(buf, len(buf))\n",
      "ConnectionResetError: [Errno 104] Connection reset by peer\n",
      "\n",
      "The above exception was the direct cause of the following exception:\n",
      "\n",
      "Traceback (most recent call last):\n",
      "  File \"/home/pawel/miniconda3/envs/dask/lib/python3.10/site-packages/distributed/comm/core.py\", line 329, in connect\n",
      "    handshake = await wait_for(comm.read(), time_left())\n",
      "  File \"/home/pawel/miniconda3/envs/dask/lib/python3.10/site-packages/distributed/utils.py\", line 1849, in wait_for\n",
      "    return await asyncio.wait_for(fut, timeout)\n",
      "  File \"/home/pawel/miniconda3/envs/dask/lib/python3.10/asyncio/tasks.py\", line 435, in wait_for\n",
      "    return fut.result()\n",
      "  File \"/home/pawel/miniconda3/envs/dask/lib/python3.10/site-packages/distributed/comm/tcp.py\", line 241, in read\n",
      "    convert_stream_closed_error(self, e)\n",
      "  File \"/home/pawel/miniconda3/envs/dask/lib/python3.10/site-packages/distributed/comm/tcp.py\", line 142, in convert_stream_closed_error\n",
      "    raise CommClosedError(f\"in {obj}: {exc.__class__.__name__}: {exc}\") from exc\n",
      "distributed.comm.core.CommClosedError: in <TCP (closed)  local=tcp://127.0.0.1:36434 remote=tcp://127.0.0.1:44287>: ConnectionResetError: [Errno 104] Connection reset by peer\n",
      "\n",
      "The above exception was the direct cause of the following exception:\n",
      "\n",
      "Traceback (most recent call last):\n",
      "  File \"/home/pawel/miniconda3/envs/dask/lib/python3.10/site-packages/distributed/worker.py\", line 2066, in gather_dep\n",
      "    response = await get_data_from_worker(\n",
      "  File \"/home/pawel/miniconda3/envs/dask/lib/python3.10/site-packages/distributed/worker.py\", line 2889, in get_data_from_worker\n",
      "    comm = await rpc.connect(worker)\n",
      "  File \"/home/pawel/miniconda3/envs/dask/lib/python3.10/site-packages/distributed/core.py\", line 1506, in connect\n",
      "    return await connect_attempt\n",
      "  File \"/home/pawel/miniconda3/envs/dask/lib/python3.10/site-packages/distributed/core.py\", line 1427, in _connect\n",
      "    comm = await connect(\n",
      "  File \"/home/pawel/miniconda3/envs/dask/lib/python3.10/site-packages/distributed/comm/core.py\", line 334, in connect\n",
      "    raise OSError(\n",
      "OSError: Timed out during handshake while connecting to tcp://127.0.0.1:44287 after 30 s\n"
     ]
    }
   ],
   "source": [
    "categories_as_str_len_histogram.index.max()"
   ]
  },
  {
   "cell_type": "markdown",
   "id": "63f65e7b-4edd-4e8d-b44f-ce98b65ba2dc",
   "metadata": {},
   "source": [
    "## Joining the dataframes"
   ]
  },
  {
   "cell_type": "code",
   "execution_count": null,
   "id": "e3ec06a4-0498-4347-b371-e5e0fd4f645d",
   "metadata": {
    "tags": []
   },
   "outputs": [],
   "source": [
    "import os\n",
    "os.environ[\"DATA_DIR\"] = str(DATA_DIR)"
   ]
  },
  {
   "cell_type": "code",
   "execution_count": null,
   "id": "adf79e6c-b359-4f95-9c5f-9e0416ba734f",
   "metadata": {
    "tags": []
   },
   "outputs": [],
   "source": [
    "# !python join_reviews_meta.py"
   ]
  },
  {
   "cell_type": "code",
   "execution_count": null,
   "id": "c4cac7f7-0575-44f3-8e44-b6964e616652",
   "metadata": {},
   "outputs": [],
   "source": []
  }
 ],
 "metadata": {
  "kernelspec": {
   "display_name": "Python 3 (ipykernel)",
   "language": "python",
   "name": "python3"
  },
  "language_info": {
   "codemirror_mode": {
    "name": "ipython",
    "version": 3
   },
   "file_extension": ".py",
   "mimetype": "text/x-python",
   "name": "python",
   "nbconvert_exporter": "python",
   "pygments_lexer": "ipython3",
   "version": "3.10.10"
  }
 },
 "nbformat": 4,
 "nbformat_minor": 5
}
