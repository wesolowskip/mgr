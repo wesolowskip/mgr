{
 "cells": [
  {
   "cell_type": "markdown",
   "id": "b8646eed",
   "metadata": {},
   "source": [
    "Uwaga! Mimo, ze w logach jednostkami są GB/s, to zweryfikowałem i są to GiB/s."
   ]
  },
  {
   "cell_type": "code",
   "execution_count": 1,
   "id": "150d98e6",
   "metadata": {},
   "outputs": [],
   "source": [
    "DATA_DIR=\"runs\""
   ]
  },
  {
   "cell_type": "code",
   "execution_count": 2,
   "id": "a0fb69a2",
   "metadata": {},
   "outputs": [],
   "source": [
    "from pathlib import Path\n",
    "import re\n",
    "\n",
    "import itertools\n",
    "import matplotlib.pyplot as plt\n",
    "import pandas as pd\n",
    "from pandas.api.types import CategoricalDtype\n",
    "import seaborn as sns"
   ]
  },
  {
   "cell_type": "code",
   "execution_count": 3,
   "id": "fde8ee00",
   "metadata": {},
   "outputs": [],
   "source": [
    "params_path_pattern = r\"GDS(\\d)_MODE([a-z]+)/.*_bs(\\d+)_.*_ninterthreads(\\d+)_nintrathreads(\\d+)\"\n",
    "results_pattern=r\"\"\"run (\\d+):\n",
    "total time: ([^\\s]+) seconds for [^\\s]+ samples\n",
    "iteration time: ([^\\s]+) seconds/sample\n",
    "throughput: ([^\\s]+) samples/second\n",
    "bandwidth: ([^\\s]+) GB/s\n",
    "cpu utilization: ([^\\s]+)%\"\"\""
   ]
  },
  {
   "cell_type": "code",
   "execution_count": 4,
   "id": "2baf617e",
   "metadata": {},
   "outputs": [],
   "source": [
    "measurements = []\n",
    "for path in Path(DATA_DIR).glob(\"*/*\"):\n",
    "    params = re.search(params_path_pattern, str(path)).groups()\n",
    "    with open(path) as f:\n",
    "        scores = re.findall(results_pattern, f.read(), re.M)\n",
    "    for score in scores:\n",
    "        measurements.append(\n",
    "            dict(itertools.chain(\n",
    "                zip([\"gds\", \"mode\", \"batch_size\", \"ninterthreads\", \"nintrathreads\"], params),\n",
    "                zip([\"rep\", \"total_time (secs)\", \"iteration_time (secs/sample)\", \"throughput (samples/sec)\", \"bandwidth (GiB/sec)\", \"cpu_usage (%)\"], score)\n",
    "            ))\n",
    "        )\n",
    "measurements_df = pd.DataFrame(measurements)\n",
    "measurements_df[\"gds\"] = measurements_df[\"gds\"] == \"1\"\n",
    "measurements_df[\"mode\"] = measurements_df[\"mode\"].astype(\n",
    "    CategoricalDtype(categories=measurements_df[\"mode\"].unique(), ordered=True)\n",
    ")\n",
    "int_cols = [\"batch_size\", \"ninterthreads\", \"nintrathreads\", \"rep\"]\n",
    "float_cols = [\"total_time (secs)\", \"iteration_time (secs/sample)\", \"throughput (samples/sec)\", \"bandwidth (GiB/sec)\", \"cpu_usage (%)\"]\n",
    "measurements_df[int_cols] = measurements_df[int_cols].astype(int)\n",
    "measurements_df[float_cols] = measurements_df[float_cols].astype(float)\n",
    "measurements_df[\"threads\"] = measurements_df[\"ninterthreads\"] * measurements_df[\"nintrathreads\"]\n",
    "measurements_df.rename(columns={\"bandwidth (GiB/sec)\": \"throughput (GiB/sec)\"}, inplace=True)"
   ]
  },
  {
   "cell_type": "code",
   "execution_count": 5,
   "id": "c3b55f81",
   "metadata": {},
   "outputs": [
    {
     "data": {
      "text/plain": [
       "0       64\n",
       "1       64\n",
       "2       64\n",
       "3       64\n",
       "4       64\n",
       "        ..\n",
       "1220     2\n",
       "1221     2\n",
       "1222     2\n",
       "1223     2\n",
       "1224     2\n",
       "Name: batch_size, Length: 1225, dtype: int64"
      ]
     },
     "execution_count": 5,
     "metadata": {},
     "output_type": "execute_result"
    }
   ],
   "source": [
    "measurements_df.batch_size"
   ]
  },
  {
   "cell_type": "code",
   "execution_count": 6,
   "id": "f9a11704",
   "metadata": {},
   "outputs": [],
   "source": [
    "# GDS, batch_size, threads1, threads2 -> total_time"
   ]
  },
  {
   "cell_type": "code",
   "execution_count": 7,
   "id": "ed459faa",
   "metadata": {},
   "outputs": [
    {
     "data": {
      "text/plain": [
       "dtype('int64')"
      ]
     },
     "execution_count": 7,
     "metadata": {},
     "output_type": "execute_result"
    }
   ],
   "source": [
    "measurements_df[\"ninterthreads\"].dtype"
   ]
  },
  {
   "cell_type": "code",
   "execution_count": 8,
   "id": "a38ddd56",
   "metadata": {},
   "outputs": [],
   "source": [
    "io_df = measurements_df[(measurements_df[\"mode\"] == \"io\") & (measurements_df[\"threads\"].isin([1, 4, 16, 64]))]"
   ]
  },
  {
   "cell_type": "code",
   "execution_count": 9,
   "id": "b538aa72",
   "metadata": {},
   "outputs": [],
   "source": [
    "io_df = io_df[io_df.ninterthreads.isin([1,4,16,64])]"
   ]
  },
  {
   "cell_type": "code",
   "execution_count": 10,
   "id": "a7acea69",
   "metadata": {
    "scrolled": false
   },
   "outputs": [
    {
     "data": {
      "image/png": "[encoded data removed]",
      "text/plain": [
       "<Figure size 667.75x300 with 2 Axes>"
      ]
     },
     "metadata": {},
     "output_type": "display_data"
    }
   ],
   "source": [
    "g = sns.FacetGrid(io_df, col=\"gds\")\n",
    "g.map_dataframe(\n",
    "    sns.barplot, x=\"batch_size\", y=\"throughput (GiB/sec)\", hue=\"ninterthreads\",\n",
    "    hue_order=sorted(io_df[\"ninterthreads\"].unique()),\n",
    "    palette=sns.color_palette(n_colors=io_df.ninterthreads.nunique())\n",
    ")\n",
    "g.add_legend(title=\"threads\")\n",
    "# plt.tight_layout()\n",
    "plt.savefig(f\"img/dali-numpy-reader.jpg\", dpi='figure', bbox_inches='tight')\n",
    "plt.show()"
   ]
  },
  {
   "cell_type": "code",
   "execution_count": null,
   "id": "f9853205",
   "metadata": {},
   "outputs": [],
   "source": []
  }
 ],
 "metadata": {
  "kernelspec": {
   "display_name": "Python 3 (ipykernel)",
   "language": "python",
   "name": "python3"
  },
  "language_info": {
   "codemirror_mode": {
    "name": "ipython",
    "version": 3
   },
   "file_extension": ".py",
   "mimetype": "text/x-python",
   "name": "python",
   "nbconvert_exporter": "python",
   "pygments_lexer": "ipython3",
   "version": "3.10.10"
  }
 },
 "nbformat": 4,
 "nbformat_minor": 5
}
