{
 "cells": [
  {
   "cell_type": "code",
   "execution_count": 1,
   "id": "150d98e6",
   "metadata": {},
   "outputs": [],
   "source": [
    "DATA_DIR=\"runs\""
   ]
  },
  {
   "cell_type": "code",
   "execution_count": 2,
   "id": "a0fb69a2",
   "metadata": {},
   "outputs": [],
   "source": [
    "from pathlib import Path\n",
    "import re\n",
    "\n",
    "import itertools\n",
    "import matplotlib.pyplot as plt\n",
    "import pandas as pd\n",
    "from pandas.api.types import CategoricalDtype\n",
    "import seaborn as sns"
   ]
  },
  {
   "cell_type": "code",
   "execution_count": 3,
   "id": "fde8ee00",
   "metadata": {},
   "outputs": [],
   "source": [
    "params_path_pattern = r\"GDS(\\d)_MODE([a-z]+)/.*_bs(\\d+)_.*_ninterthreads(\\d+)_nintrathreads(\\d+)\"\n",
    "results_pattern=r\"\"\"run (\\d+):\n",
    "total time: ([^\\s]+) seconds for 200 samples\n",
    "iteration time: ([^\\s]+) seconds/sample\n",
    "throughput: ([^\\s]+) samples/second\n",
    "bandwidth: ([^\\s]+) GB/s\n",
    "cpu utilization: ([^\\s]+)%\"\"\""
   ]
  },
  {
   "cell_type": "code",
   "execution_count": 6,
   "id": "2baf617e",
   "metadata": {},
   "outputs": [],
   "source": [
    "measurements = []\n",
    "for path in Path(DATA_DIR).glob(\"*/*\"):\n",
    "    params = re.search(params_path_pattern, str(path)).groups()\n",
    "    with open(path) as f:\n",
    "        scores = re.findall(results_pattern, f.read(), re.M)\n",
    "    for score in scores:\n",
    "        measurements.append(\n",
    "            dict(itertools.chain(\n",
    "                zip([\"gds\", \"mode\", \"batch_size\", \"ninterthreads\", \"nintrathreads\"], params),\n",
    "                zip([\"rep\", \"total_time (secs)\", \"iteration_time (secs/sample)\", \"throughput (samples/s)\", \"bandwidth (GB/s)\", \"cpu_usage (%)\"], score)\n",
    "            ))\n",
    "        )\n",
    "measurements_df = pd.DataFrame(measurements)\n",
    "measurements_df[\"gds\"] = measurements_df[\"gds\"] == \"1\"\n",
    "measurements_df[\"mode\"] = measurements_df[\"mode\"].astype(\n",
    "    CategoricalDtype(categories=measurements_df[\"mode\"].unique(), ordered=True)\n",
    ")\n",
    "int_cols = [\"batch_size\", \"ninterthreads\", \"nintrathreads\", \"rep\"]\n",
    "float_cols = [\"total_time (secs)\", \"iteration_time (secs/sample)\", \"throughput (samples/s)\", \"bandwidth (GB/s)\", \"cpu_usage (%)\"]\n",
    "measurements_df[int_cols] = measurements_df[int_cols].astype(int)\n",
    "measurements_df[float_cols] = measurements_df[float_cols].astype(float)\n",
    "measurements_df[\"threads\"] = measurements_df[\"ninterthreads\"] * measurements_df[\"nintrathreads\"]"
   ]
  },
  {
   "cell_type": "code",
   "execution_count": 7,
   "id": "c3b55f81",
   "metadata": {},
   "outputs": [
    {
     "data": {
      "text/html": [
       "<div>\n",
       "<style scoped>\n",
       "    .dataframe tbody tr th:only-of-type {\n",
       "        vertical-align: middle;\n",
       "    }\n",
       "\n",
       "    .dataframe tbody tr th {\n",
       "        vertical-align: top;\n",
       "    }\n",
       "\n",
       "    .dataframe thead th {\n",
       "        text-align: right;\n",
       "    }\n",
       "</style>\n",
       "<table border=\"1\" class=\"dataframe\">\n",
       "  <thead>\n",
       "    <tr style=\"text-align: right;\">\n",
       "      <th></th>\n",
       "      <th>gds</th>\n",
       "      <th>mode</th>\n",
       "      <th>batch_size</th>\n",
       "      <th>ninterthreads</th>\n",
       "      <th>nintrathreads</th>\n",
       "      <th>rep</th>\n",
       "      <th>total_time (secs)</th>\n",
       "      <th>iteration_time (secs/sample)</th>\n",
       "      <th>throughput (samples/s)</th>\n",
       "      <th>bandwidth (GB/s)</th>\n",
       "      <th>cpu_usage (%)</th>\n",
       "      <th>threads</th>\n",
       "    </tr>\n",
       "  </thead>\n",
       "  <tbody>\n",
       "    <tr>\n",
       "      <th>0</th>\n",
       "      <td>True</td>\n",
       "      <td>inference</td>\n",
       "      <td>8</td>\n",
       "      <td>8</td>\n",
       "      <td>1</td>\n",
       "      <td>1</td>\n",
       "      <td>2.14</td>\n",
       "      <td>0.0107</td>\n",
       "      <td>93.52</td>\n",
       "      <td>4.93</td>\n",
       "      <td>9.25</td>\n",
       "      <td>8</td>\n",
       "    </tr>\n",
       "    <tr>\n",
       "      <th>1</th>\n",
       "      <td>True</td>\n",
       "      <td>inference</td>\n",
       "      <td>8</td>\n",
       "      <td>8</td>\n",
       "      <td>1</td>\n",
       "      <td>2</td>\n",
       "      <td>2.09</td>\n",
       "      <td>0.0105</td>\n",
       "      <td>95.57</td>\n",
       "      <td>5.04</td>\n",
       "      <td>9.48</td>\n",
       "      <td>8</td>\n",
       "    </tr>\n",
       "    <tr>\n",
       "      <th>2</th>\n",
       "      <td>True</td>\n",
       "      <td>inference</td>\n",
       "      <td>8</td>\n",
       "      <td>8</td>\n",
       "      <td>1</td>\n",
       "      <td>3</td>\n",
       "      <td>2.01</td>\n",
       "      <td>0.0100</td>\n",
       "      <td>99.67</td>\n",
       "      <td>5.26</td>\n",
       "      <td>9.23</td>\n",
       "      <td>8</td>\n",
       "    </tr>\n",
       "    <tr>\n",
       "      <th>3</th>\n",
       "      <td>True</td>\n",
       "      <td>inference</td>\n",
       "      <td>8</td>\n",
       "      <td>8</td>\n",
       "      <td>1</td>\n",
       "      <td>4</td>\n",
       "      <td>2.10</td>\n",
       "      <td>0.0105</td>\n",
       "      <td>95.27</td>\n",
       "      <td>5.02</td>\n",
       "      <td>8.84</td>\n",
       "      <td>8</td>\n",
       "    </tr>\n",
       "    <tr>\n",
       "      <th>4</th>\n",
       "      <td>True</td>\n",
       "      <td>inference</td>\n",
       "      <td>8</td>\n",
       "      <td>8</td>\n",
       "      <td>1</td>\n",
       "      <td>5</td>\n",
       "      <td>2.11</td>\n",
       "      <td>0.0106</td>\n",
       "      <td>94.74</td>\n",
       "      <td>5.00</td>\n",
       "      <td>8.51</td>\n",
       "      <td>8</td>\n",
       "    </tr>\n",
       "    <tr>\n",
       "      <th>...</th>\n",
       "      <td>...</td>\n",
       "      <td>...</td>\n",
       "      <td>...</td>\n",
       "      <td>...</td>\n",
       "      <td>...</td>\n",
       "      <td>...</td>\n",
       "      <td>...</td>\n",
       "      <td>...</td>\n",
       "      <td>...</td>\n",
       "      <td>...</td>\n",
       "      <td>...</td>\n",
       "      <td>...</td>\n",
       "    </tr>\n",
       "    <tr>\n",
       "      <th>1075</th>\n",
       "      <td>False</td>\n",
       "      <td>inference</td>\n",
       "      <td>4</td>\n",
       "      <td>16</td>\n",
       "      <td>1</td>\n",
       "      <td>1</td>\n",
       "      <td>2.83</td>\n",
       "      <td>0.0142</td>\n",
       "      <td>70.60</td>\n",
       "      <td>3.72</td>\n",
       "      <td>7.38</td>\n",
       "      <td>16</td>\n",
       "    </tr>\n",
       "    <tr>\n",
       "      <th>1076</th>\n",
       "      <td>False</td>\n",
       "      <td>inference</td>\n",
       "      <td>4</td>\n",
       "      <td>16</td>\n",
       "      <td>1</td>\n",
       "      <td>2</td>\n",
       "      <td>2.69</td>\n",
       "      <td>0.0135</td>\n",
       "      <td>74.31</td>\n",
       "      <td>3.92</td>\n",
       "      <td>7.38</td>\n",
       "      <td>16</td>\n",
       "    </tr>\n",
       "    <tr>\n",
       "      <th>1077</th>\n",
       "      <td>False</td>\n",
       "      <td>inference</td>\n",
       "      <td>4</td>\n",
       "      <td>16</td>\n",
       "      <td>1</td>\n",
       "      <td>3</td>\n",
       "      <td>2.59</td>\n",
       "      <td>0.0129</td>\n",
       "      <td>77.33</td>\n",
       "      <td>4.08</td>\n",
       "      <td>7.15</td>\n",
       "      <td>16</td>\n",
       "    </tr>\n",
       "    <tr>\n",
       "      <th>1078</th>\n",
       "      <td>False</td>\n",
       "      <td>inference</td>\n",
       "      <td>4</td>\n",
       "      <td>16</td>\n",
       "      <td>1</td>\n",
       "      <td>4</td>\n",
       "      <td>2.72</td>\n",
       "      <td>0.0136</td>\n",
       "      <td>73.62</td>\n",
       "      <td>3.88</td>\n",
       "      <td>6.93</td>\n",
       "      <td>16</td>\n",
       "    </tr>\n",
       "    <tr>\n",
       "      <th>1079</th>\n",
       "      <td>False</td>\n",
       "      <td>inference</td>\n",
       "      <td>4</td>\n",
       "      <td>16</td>\n",
       "      <td>1</td>\n",
       "      <td>5</td>\n",
       "      <td>2.73</td>\n",
       "      <td>0.0136</td>\n",
       "      <td>73.36</td>\n",
       "      <td>3.87</td>\n",
       "      <td>6.76</td>\n",
       "      <td>16</td>\n",
       "    </tr>\n",
       "  </tbody>\n",
       "</table>\n",
       "<p>1080 rows × 12 columns</p>\n",
       "</div>"
      ],
      "text/plain": [
       "        gds       mode  batch_size  ninterthreads  nintrathreads  rep  \\\n",
       "0      True  inference           8              8              1    1   \n",
       "1      True  inference           8              8              1    2   \n",
       "2      True  inference           8              8              1    3   \n",
       "3      True  inference           8              8              1    4   \n",
       "4      True  inference           8              8              1    5   \n",
       "...     ...        ...         ...            ...            ...  ...   \n",
       "1075  False  inference           4             16              1    1   \n",
       "1076  False  inference           4             16              1    2   \n",
       "1077  False  inference           4             16              1    3   \n",
       "1078  False  inference           4             16              1    4   \n",
       "1079  False  inference           4             16              1    5   \n",
       "\n",
       "      total_time (secs)  iteration_time (secs/sample)  throughput (samples/s)  \\\n",
       "0                  2.14                        0.0107                   93.52   \n",
       "1                  2.09                        0.0105                   95.57   \n",
       "2                  2.01                        0.0100                   99.67   \n",
       "3                  2.10                        0.0105                   95.27   \n",
       "4                  2.11                        0.0106                   94.74   \n",
       "...                 ...                           ...                     ...   \n",
       "1075               2.83                        0.0142                   70.60   \n",
       "1076               2.69                        0.0135                   74.31   \n",
       "1077               2.59                        0.0129                   77.33   \n",
       "1078               2.72                        0.0136                   73.62   \n",
       "1079               2.73                        0.0136                   73.36   \n",
       "\n",
       "      bandwidth (GB/s)  cpu_usage (%)  threads  \n",
       "0                 4.93           9.25        8  \n",
       "1                 5.04           9.48        8  \n",
       "2                 5.26           9.23        8  \n",
       "3                 5.02           8.84        8  \n",
       "4                 5.00           8.51        8  \n",
       "...                ...            ...      ...  \n",
       "1075              3.72           7.38       16  \n",
       "1076              3.92           7.38       16  \n",
       "1077              4.08           7.15       16  \n",
       "1078              3.88           6.93       16  \n",
       "1079              3.87           6.76       16  \n",
       "\n",
       "[1080 rows x 12 columns]"
      ]
     },
     "execution_count": 7,
     "metadata": {},
     "output_type": "execute_result"
    }
   ],
   "source": [
    "measurements_df"
   ]
  },
  {
   "cell_type": "code",
   "execution_count": 148,
   "id": "f9a11704",
   "metadata": {},
   "outputs": [],
   "source": [
    "# GDS, batch_size, threads1, threads2 -> total_time"
   ]
  },
  {
   "cell_type": "code",
   "execution_count": 9,
   "id": "a38ddd56",
   "metadata": {},
   "outputs": [],
   "source": [
    "inference_df = measurements_df[measurements_df[\"mode\"] == \"inference\"]"
   ]
  },
  {
   "cell_type": "code",
   "execution_count": 13,
   "id": "a7acea69",
   "metadata": {},
   "outputs": [
    {
     "data": {
      "image/png": "[encoded data removed]",
      "text/plain": [
       "<Figure size 701.736x1800 with 12 Axes>"
      ]
     },
     "metadata": {},
     "output_type": "display_data"
    }
   ],
   "source": [
    "g = sns.FacetGrid(inference_df, row=\"threads\", col=\"gds\")\n",
    "g.map_dataframe(\n",
    "    sns.barplot, x=\"batch_size\", y=\"bandwidth (GB/s)\", hue=\"ninterthreads\",\n",
    "    palette=sns.color_palette(n_colors=inference_df.ninterthreads.nunique())\n",
    ")\n",
    "g.add_legend(title=\"GDS enabled\")\n",
    "plt.tight_layout()\n",
    "plt.show()"
   ]
  },
  {
   "cell_type": "code",
   "execution_count": 157,
   "id": "4994b416",
   "metadata": {},
   "outputs": [],
   "source": [
    "io_df = measurements_df[measurements_df[\"mode\"] == \"io\"]"
   ]
  },
  {
   "cell_type": "code",
   "execution_count": null,
   "id": "8a103515",
   "metadata": {},
   "outputs": [],
   "source": []
  },
  {
   "cell_type": "code",
   "execution_count": null,
   "id": "8981dd73",
   "metadata": {},
   "outputs": [],
   "source": []
  },
  {
   "cell_type": "code",
   "execution_count": null,
   "id": "152a18ca",
   "metadata": {},
   "outputs": [],
   "source": []
  },
  {
   "cell_type": "code",
   "execution_count": 139,
   "id": "268c88bb",
   "metadata": {},
   "outputs": [
    {
     "data": {
      "text/plain": [
       "9.74"
      ]
     },
     "execution_count": 139,
     "metadata": {},
     "output_type": "execute_result"
    }
   ],
   "source": [
    "measurements_df[\"bandwidth (GB/s)\"].max()"
   ]
  },
  {
   "cell_type": "code",
   "execution_count": null,
   "id": "3f37558b",
   "metadata": {},
   "outputs": [],
   "source": []
  },
  {
   "cell_type": "code",
   "execution_count": null,
   "id": "8448d1e0",
   "metadata": {},
   "outputs": [],
   "source": []
  },
  {
   "cell_type": "code",
   "execution_count": 109,
   "id": "d4245237",
   "metadata": {},
   "outputs": [
    {
     "name": "stdout",
     "output_type": "stream",
     "text": [
      "run 1:\n",
      "total time: 2.14 seconds for 200 samples\n",
      "iteration time: 0.0107 seconds/sample\n",
      "throughput: 93.52 samples/second\n",
      "bandwidth: 4.93 GB/s\n",
      "cpu utilization: 9.25%\n",
      "\n",
      "run 2:\n",
      "total time: 2.09 seconds for 200 samples\n",
      "iteration time: 0.0105 seconds/sample\n",
      "throughput: 95.57 samples/second\n",
      "bandwidth: 5.04 GB/s\n",
      "cpu utilization: 9.48%\n",
      "\n",
      "run 3:\n",
      "total time: 2.01 seconds for 200 samples\n",
      "iteration time: 0.0100 seconds/sample\n",
      "throughput: 99.67 samples/second\n",
      "bandwidth: 5.26 GB/s\n",
      "cpu utilization: 9.23%\n",
      "\n",
      "run 4:\n",
      "total time: 2.10 seconds for 200 samples\n",
      "iteration time: 0.0105 seconds/sample\n",
      "throughput: 95.27 samples/second\n",
      "bandwidth: 5.02 GB/s\n",
      "cpu utilization: 8.84%\n",
      "\n",
      "run 5:\n",
      "total time: 2.11 seconds for 200 samples\n",
      "iteration time: 0.0106 seconds/sample\n",
      "throughput: 94.74 samples/second\n",
      "bandwidth: 5.00 GB/s\n",
      "cpu utilization: 8.51%\n",
      "\n",
      "\n"
     ]
    }
   ],
   "source": [
    "with open(path) as f:\n",
    "    print(f.read()d)"
   ]
  },
  {
   "cell_type": "code",
   "execution_count": 110,
   "id": "ea779bdc",
   "metadata": {},
   "outputs": [
    {
     "data": {
      "text/plain": [
       "[]"
      ]
     },
     "execution_count": 110,
     "metadata": {},
     "output_type": "execute_result"
    }
   ],
   "source": [
    "measurements"
   ]
  },
  {
   "cell_type": "code",
   "execution_count": null,
   "id": "f9853205",
   "metadata": {},
   "outputs": [],
   "source": []
  }
 ],
 "metadata": {
  "kernelspec": {
   "display_name": "Python 3 (ipykernel)",
   "language": "python",
   "name": "python3"
  },
  "language_info": {
   "codemirror_mode": {
    "name": "ipython",
    "version": 3
   },
   "file_extension": ".py",
   "mimetype": "text/x-python",
   "name": "python",
   "nbconvert_exporter": "python",
   "pygments_lexer": "ipython3",
   "version": "3.10.10"
  }
 },
 "nbformat": 4,
 "nbformat_minor": 5
}
